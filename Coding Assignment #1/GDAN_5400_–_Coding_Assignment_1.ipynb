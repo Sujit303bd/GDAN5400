{
  "cells": [
    {
      "cell_type": "markdown",
      "id": "3b907d9a",
      "metadata": {
        "id": "3b907d9a"
      },
      "source": [
        "# Coding Assignment #1\n",
        "\n",
        "Welcome to your first coding assignment! You will work with the provided dataset, which contains information about roof insurance claims. In this assignment, you will:\n",
        "1. Load and inspect the dataset.\n",
        "2. Perform basic data exploration.\n",
        "3. Practice Python programming skills, including:\n",
        "   - Using basic arithmetic and comparison operators.\n",
        "   - Creating and working with lists.\n",
        "   - Using booleans.\n",
        "   - Writing for loops.\n",
        "   - Using if-elif-else statements.\n",
        "4. Develop a Python-based workflow to prepare the roof insurance claim dataset for analysis. This assignment focuses on learning how to:\n",
        "   - Extract, clean, and transform data.\n",
        "   - Identify and handle missing values.\n",
        "   - Filter and organize data for analysis.\n",
        "\n",
        "## Dataset\n",
        "The dataset you'll be working with is `final_insurance_fraud.xlsx`. This file contains information about insurance claims, including details like claim type, amount, and fraud status.\n",
        "\n"
      ]
    },
    {
      "cell_type": "markdown",
      "source": [
        "## CASE INTRODUCTION.\n",
        "\n",
        "Casey Lee, an insurance claims processor was reviewing claims received from a recent storm before finalizing authorization for roof replacements. She pulled up and reread the U.S. National Weather Service Announcement:\n",
        "\n",
        "&nbsp;&nbsp; TORNADO WARNING  \n",
        "&nbsp;&nbsp; NATIONAL WEATHER SERVICE CHICAGO/ROMEOVILLE   \n",
        "&nbsp;&nbsp;1215 AM CDT THU SEP 12 20XX  \n",
        "\n",
        "&nbsp;&nbsp;THE NATIONAL WEATHER SERVICE IN CHICAGO HAS ISSUED A   \n",
        "&nbsp;&nbsp;*TORNADO WARNING FOR...    \n",
        "&nbsp;&nbsp;CENTRAL DEKALB COUNTY IN NORTH CENTRAL ILLINOIS...    \n",
        "&nbsp;&nbsp;UNTIL 530 PM CDT.  \n",
        "\n",
        "&nbsp;&nbsp;*AT 1218 AM CDT, A SEVERE THUNDERSTORM CAPABLE OF PRODUCING A  \n",
        "&nbsp;&nbsp;TORNADO WAS LOCATED NEAR SYCAMORE,  \n",
        "&nbsp;&nbsp;OR NEAR SHABBONA, MOVING SOUTHWEST AT 2 MPH.  \n",
        "&nbsp;&nbsp;&nbsp;&nbsp;  HAZARD...TORNADO AND QUARTER-SIZED HAIL.  \n",
        "&nbsp;&nbsp;&nbsp;&nbsp;  SOURCE...RADAR INDICATED ROTATION.  \n",
        "&nbsp;&nbsp;&nbsp;&nbsp; IMPACT...FLYING DEBRIS WILL BE DANGEROUS TO THOSE CAUGHT WITHOUT SHELTER.   \n",
        " &nbsp;&nbsp;&nbsp;&nbsp;&nbsp;&nbsp;MOBILE HOMES WILL BE DAMAGED OR DESTROYED.  \n",
        "   &nbsp;&nbsp;&nbsp;&nbsp;&nbsp;&nbsp;&nbsp;&nbsp;   DAMAGE TO ROOFS, WINDOWS, AND VEHICLES WILL OCCUR. TREE DAMAGE IS LIKELY.  \n",
        "\n",
        "&nbsp;&nbsp;*THIS DANGEROUS STORM WILL BE NEAR...  \n",
        "&nbsp;&nbsp;SYCAMORE AROUND 1240 AM CDT.   \n",
        "&nbsp;&nbsp;DEKALB AROUND 600 AM CDT.  \n",
        "&nbsp;&nbsp;COURTLAND AROUND 1140 AM.     \n",
        "\n",
        "&nbsp;&nbsp;PRECAUTIONARY/PREPAREDNESS ACTIONS...   \n",
        "\n",
        "&nbsp;&nbsp;TAKE COVER NOW! MOVE TO A BASEMENT OR AN INTERIOR ROOM  \n",
        "&nbsp;&nbsp;ON THE LOWEST FLOOR OF A STURDY BUILDING.  \n",
        "&nbsp;&nbsp;AVOID WINDOWS. IF YOU ARE OUTDOORS, IN A MOBILE HOME, OR IN A VEHICLE,   \n",
        "&nbsp;&nbsp;MOVE TO THE CLOSEST SUBSTANTIAL SHELTER AND PROTECT YOURSELF FROM FLYING DEBRIS.    \n",
        "\n",
        "Indeed, it appeared to be a bad storm, which could substantiate the large number of claims that she received for new roofs from hail and wind damage. Yet, she felt that something could be off.\n",
        "\n",
        "While Casey could not process the data from multiple companies, she knew that the National Insurance Crime Bureau might be able to help by aggregating data from multiple insurance companies across the area hit by the storm and evaluating the data to look for anomalies. Casey's request landed on your desk. As a new fraud specialist, you have been hired to investigate claims following storm damage to hopefully reduce the payouts made to false claimants. You also knew you had to act fast. You began by pulling the claims data for roofs. You also received a database that showed the actual path of this storm. Your task is to sort through the claims to see if there were any unusual claim patterns from this recent weather event.\n",
        "\n",
        "---\n",
        "Case introduction and dataset comes from: Cheng, C., & Lee, C.-C. (2023). A Case Study Using Data Analytics to Detect Hail Damage Insurance Claim Fraud. *Journal of Forensic Accounting Research, 8,* 287–306."
      ],
      "metadata": {
        "id": "nUpNOLo0nRRw"
      },
      "id": "nUpNOLo0nRRw"
    },
    {
      "cell_type": "markdown",
      "source": [
        "# **Instructions: Steps to Complete**"
      ],
      "metadata": {
        "id": "qjhWGY_jUD3o"
      },
      "id": "qjhWGY_jUD3o"
    },
    {
      "cell_type": "markdown",
      "source": [
        "### 1. **Load the Dataset:**\n",
        "   - Load the roof insurance claim dataset (provided in `.xlsx` format) into a Pandas DataFrame named `df`"
      ],
      "metadata": {
        "id": "-yJXS0ditgHa"
      },
      "id": "-yJXS0ditgHa"
    },
    {
      "cell_type": "code",
      "source": [],
      "metadata": {
        "id": "2LVfoya_MIHq"
      },
      "id": "2LVfoya_MIHq",
      "execution_count": null,
      "outputs": []
    },
    {
      "cell_type": "markdown",
      "source": [
        "### 2. **Inspect the Dataset**\n",
        "- Print the first 5 rows of the dataset to inspect its structure:\n",
        "- Print all column names.\n",
        "- Display the structure and data types for all variables.\n",
        "- Display summary statistics for all numeric columns."
      ],
      "metadata": {
        "id": "5w91jk5RvCfe"
      },
      "id": "5w91jk5RvCfe"
    },
    {
      "cell_type": "code",
      "source": [],
      "metadata": {
        "id": "u5b1dRA4MLVC"
      },
      "id": "u5b1dRA4MLVC",
      "execution_count": null,
      "outputs": []
    },
    {
      "cell_type": "markdown",
      "source": [
        "### 3. **Use Operators**\n",
        "- Use basic *arithmetic* operators to:\n",
        "  - Add 10 to the `Wind Speed` for each claim and print the result.\n",
        "\n",
        "- Use *comparison* operators to:\n",
        "  - Show all rows of the dataset where `Home Square Feet` is greater than or equal to 3750.  \n"
      ],
      "metadata": {
        "id": "ldsjgetXNBKw"
      },
      "id": "ldsjgetXNBKw"
    },
    {
      "cell_type": "code",
      "source": [],
      "metadata": {
        "id": "NzfXUy1tMTJY"
      },
      "id": "NzfXUy1tMTJY",
      "execution_count": null,
      "outputs": []
    },
    {
      "cell_type": "markdown",
      "source": [
        "### 4. **Create and Work with a List**\n",
        "- Create and print out a `list` of all *unique* values from the `City` column. Call the list `city_names`"
      ],
      "metadata": {
        "id": "OfnK1MfD_kSw"
      },
      "id": "OfnK1MfD_kSw"
    },
    {
      "cell_type": "code",
      "source": [],
      "metadata": {
        "id": "Llg2_4F7MYue"
      },
      "id": "Llg2_4F7MYue",
      "execution_count": null,
      "outputs": []
    },
    {
      "cell_type": "markdown",
      "source": [
        "### 5. **For Loop**\n",
        "- Use a `for` loop to iterate through the `Rainfall` column and print:\n",
        "  - `\"The amount of rainfall was <rainfall> inches.\"`, where `<rainfall>` refers to the amount of rainfall."
      ],
      "metadata": {
        "id": "ttsxz_prNgdD"
      },
      "id": "ttsxz_prNgdD"
    },
    {
      "cell_type": "code",
      "source": [],
      "metadata": {
        "id": "U44uj0y-Mp-G"
      },
      "id": "U44uj0y-Mp-G",
      "execution_count": null,
      "outputs": []
    },
    {
      "cell_type": "markdown",
      "source": [
        "### 6. **If-Elif-Else Statement**\n",
        "- Write a simple conditional statement to check the `Age of roof` for the first 5 rows:\n",
        "  - If less than 5, print `\"New Roof\"`.\n",
        "  - If between 5 and 10, print `\"Moderately New Roof\"`.\n",
        "  - Otherwise, print `\"Old Roof\"`.\n",
        "- Print the result for the first 5 rows.\n",
        "- *Hint*: the `if-elif-else` statement is nested under a `for` loop."
      ],
      "metadata": {
        "id": "04pkULrgNqbR"
      },
      "id": "04pkULrgNqbR"
    },
    {
      "cell_type": "code",
      "source": [],
      "metadata": {
        "id": "1rJdXLbZUyMw"
      },
      "id": "1rJdXLbZUyMw",
      "execution_count": null,
      "outputs": []
    },
    {
      "cell_type": "markdown",
      "source": [
        "### 7. **Filter Invalid Records:**\n",
        "   - Use PANDAS to remove rows where the `Policy Number` is missing (`null`).\n",
        "   - How many records do you have after using the filter tool for roof claims?"
      ],
      "metadata": {
        "id": "RSALvWGuuKL6"
      },
      "id": "RSALvWGuuKL6"
    },
    {
      "cell_type": "code",
      "source": [],
      "metadata": {
        "id": "FcKokYkmUzhE"
      },
      "id": "FcKokYkmUzhE",
      "execution_count": null,
      "outputs": []
    },
    {
      "cell_type": "markdown",
      "source": [
        "### 8. **Data Cleaning:**\n",
        "   - Use PANDAS to replace `null` values with `0` in the `Estimated cost to repair` and `Estimated cost to replace` columns. For each claim, only one of these two columns will have data depending on the adjuster’s recommendation."
      ],
      "metadata": {
        "id": "iT9k4MzluH-A"
      },
      "id": "iT9k4MzluH-A"
    },
    {
      "cell_type": "code",
      "source": [],
      "metadata": {
        "id": "JBLZNxc2Ncze"
      },
      "id": "JBLZNxc2Ncze",
      "execution_count": null,
      "outputs": []
    },
    {
      "cell_type": "markdown",
      "id": "b62adafb",
      "metadata": {
        "id": "b62adafb"
      },
      "source": [
        "### 9. **Identify Duplicate Claims:**\n",
        "   - Use PANDAS to identify whether there are any duplicate claims in your dataset based on ``House/Apartment Number``,\t``Street Address``, ``City``, and ``Zip Code``."
      ]
    },
    {
      "cell_type": "code",
      "source": [],
      "metadata": {
        "id": "RbpRvCNTOQeR"
      },
      "id": "RbpRvCNTOQeR",
      "execution_count": null,
      "outputs": []
    },
    {
      "cell_type": "markdown",
      "id": "a2d1957c",
      "metadata": {
        "id": "a2d1957c"
      },
      "source": [
        "### 10. **Export Data**\n",
        "   - Export the cleaned dataset to a new `CSV` file.\n",
        "   - Example:\n",
        "     ```python\n",
        "     combined.to_csv('cleaned_roof_insurance_claims.csv', index=False)\n",
        "     ```"
      ]
    },
    {
      "cell_type": "markdown",
      "id": "e0838850",
      "metadata": {
        "id": "e0838850"
      },
      "source": [
        "---\n",
        "\n",
        "## **Deliverables**\n",
        "1. Submit the link to you Google Colab notebook in the assignment area in Canvas.\n",
        "2. Include comments in your code to explain each step."
      ]
    },
    {
      "cell_type": "markdown",
      "id": "6608c287",
      "metadata": {
        "id": "6608c287"
      },
      "source": [
        "## **Tips**\n",
        "- Use small chunks of code and inspect your dataset frequently.\n",
        "- Handle missing and invalid data systematically to maintain data integrity.\n",
        "\n",
        "Good luck! 🚀"
      ]
    },
    {
      "cell_type": "markdown",
      "source": [
        "## Submission\n",
        "- Submit your completed Colab notebook with all code cells executed.\n",
        "- Ensure your notebook includes helpful explanations (as Markdown cells) for each step."
      ],
      "metadata": {
        "id": "8080c226"
      },
      "id": "8080c226"
    }
  ],
  "metadata": {
    "kernelspec": {
      "display_name": "Python 3 (ipykernel)",
      "language": "python",
      "name": "python3"
    },
    "language_info": {
      "codemirror_mode": {
        "name": "ipython",
        "version": 3
      },
      "file_extension": ".py",
      "mimetype": "text/x-python",
      "name": "python",
      "nbconvert_exporter": "python",
      "pygments_lexer": "ipython3",
      "version": "3.9.7"
    },
    "colab": {
      "provenance": []
    }
  },
  "nbformat": 4,
  "nbformat_minor": 5
}