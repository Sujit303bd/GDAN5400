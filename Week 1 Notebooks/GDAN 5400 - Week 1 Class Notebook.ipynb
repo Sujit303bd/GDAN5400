{
 "cells": [
  {
   "cell_type": "markdown",
   "id": "1a947802",
   "metadata": {},
   "source": [
    "[![Open In Colab](https://colab.research.google.com/assets/colab-badge.svg)](https://colab.research.google.com/github/gdsaxton/GDAN5400/blob/main/Week%201%20Notebooks/GDAN%205400%20-%20Week%201%20-%20Class%20Notebook.ipynb)\""
   ]
  },
  {
   "cell_type": "markdown",
   "id": "f5963b8f",
   "metadata": {},
   "source": [
    "# Introduction to Python Programming\n",
    "### Welcome to Python Programming Basics!\n",
    "\n",
    "In this notebook, we'll learn the fundamentals of Python programming and how to use Google Colab effectively.\n"
   ]
  },
  {
   "cell_type": "markdown",
   "id": "a10d60b8",
   "metadata": {},
   "source": [
    "### Signing In and Connecting with Colab\n",
    "For instructions on how to log into Colab, see the [Week 1 Pre-Class Notebook](https://colab.research.google.com/drive/1ZhIrS_nRJ1Ud5QBLmPPF7ggJo2yclN5I?usp=sharing)"
   ]
  },
  {
   "cell_type": "markdown",
   "id": "73d56864",
   "metadata": {},
   "source": [
    "# Note\n",
    "\n",
    "Important concepts.\n",
    "\n",
    "1. Connect\n",
    "2. Code Cell\n",
    "3. Text Cell\n",
    "4. Runtime"
   ]
  },
  {
   "cell_type": "code",
   "execution_count": null,
   "id": "f9990691",
   "metadata": {},
   "outputs": [],
   "source": []
  },
  {
   "cell_type": "code",
   "execution_count": null,
   "id": "430b833e",
   "metadata": {},
   "outputs": [],
   "source": []
  },
  {
   "cell_type": "markdown",
   "id": "264e96d5",
   "metadata": {},
   "source": [
    "<h1>Google Colaboratory!</h1>\n",
    "\n",
    "Colaboratory is a free Jupyter notebook environment that requires no setup and runs entirely in the cloud.\n",
    "\n",
    "With Colaboratory you can write and execute code, save and share your analyses, and access powerful computing resources, all for free from your browser.\n",
    "\n",
    "- **Key Features**\n",
    "  - Interactive Python coding.\n",
    "  - Code cells for execution and Markdown cells for documentation.\n",
    "  - Integration with Google Drive for saving and loading files.\n"
   ]
  },
  {
   "cell_type": "markdown",
   "id": "1200cf98",
   "metadata": {},
   "source": [
    "## Getting Started\n",
    "\n",
    "The document you are reading is a  [Jupyter notebook](https://jupyter.org/), hosted in Colaboratory. It is not a static page, but an interactive environment that lets you write and execute code in Python and other languages."
   ]
  },
  {
   "cell_type": "markdown",
   "id": "a2f2593f",
   "metadata": {},
   "source": [
    "### Essential Colab Features\n",
    "* Code cells: Where you write and run Python code (press `Shift + Enter` to run)\n",
    "* Text cells: Where you write notes and explanations (like this one!)\n",
    "* Built-in code completion\n",
    "* Free access to GPU resources\n",
    "* Easy sharing and collaboration"
   ]
  },
  {
   "cell_type": "markdown",
   "id": "8f9e1d98",
   "metadata": {},
   "source": [
    "# Integration with Drive\n",
    "\n",
    "Colaboratory is integrated with Google Drive. It allows you to share, comment, and collaborate on the same document with multiple people:\n",
    "\n",
    "* The **SHARE** button (top-right of the toolbar) allows you to share the notebook and control permissions set on it.\n",
    "\n",
    "* **File->Make a Copy** creates a copy of the notebook in Drive.\n",
    "\n",
    "* **File->Save** saves the File to Drive. **File->Save and checkpoint** pins the version so it doesn't get deleted from the revision history. \n",
    "\n",
    "* **File->Revision history** shows the notebook's revision history. "
   ]
  },
  {
   "cell_type": "markdown",
   "id": "41c95222",
   "metadata": {},
   "source": [
    "## Cells\n",
    "A notebook is a list of cells. Cells contain either explanatory text or executable code and its output. Click a cell to select it."
   ]
  },
  {
   "cell_type": "markdown",
   "id": "a6e5217f",
   "metadata": {},
   "source": [
    "## Code cells\n",
    "Below is a **code cell** with a short Python script that computes a value, stores it in a variable, and prints the result. Once the toolbar button indicates CONNECTED, click in the cell to select it and execute the contents in the following ways:\n",
    "\n",
    "* Click the **Play icon** in the left gutter of the cell;\n",
    "* Type **Cmd/Ctrl+Enter** to run the cell in place;\n",
    "* Type **Shift+Enter** to run the cell and move focus to the next cell (adding one if none exists); or\n",
    "* Type **Alt+Enter** to run the cell and insert a new code cell immediately below it.\n",
    "\n",
    "There are additional options for running some or all cells in the **Runtime** menu.\n"
   ]
  },
  {
   "cell_type": "code",
   "execution_count": null,
   "id": "628a9930",
   "metadata": {},
   "outputs": [],
   "source": [
    "seconds_in_a_day = 24 * 60 * 60\n",
    "seconds_in_a_day"
   ]
  },
  {
   "cell_type": "markdown",
   "id": "4f4a5811",
   "metadata": {},
   "source": [
    "Below is another code cell"
   ]
  },
  {
   "cell_type": "code",
   "execution_count": null,
   "id": "ec7fff79",
   "metadata": {},
   "outputs": [],
   "source": [
    "#Prints \"Hello world\"\n",
    "print(\"Hello world\")"
   ]
  },
  {
   "cell_type": "markdown",
   "id": "b174f5ec",
   "metadata": {},
   "source": [
    "The first line above is a comment. In Python, comments begin with the # symbol."
   ]
  },
  {
   "cell_type": "markdown",
   "id": "dcad2b9a",
   "metadata": {},
   "source": [
    "\n",
    "Let's start coding! Run the cell below to check your Python version:"
   ]
  },
  {
   "cell_type": "code",
   "execution_count": null,
   "id": "eb838754",
   "metadata": {},
   "outputs": [],
   "source": [
    "import sys\n",
    "print(f\"Python version: {sys.version}\")"
   ]
  },
  {
   "cell_type": "markdown",
   "id": "55d86e59",
   "metadata": {},
   "source": [
    "## Text cells\n",
    "This is a **text cell**. You can **double-click** to edit this cell. Text cells\n",
    "use markdown syntax. To learn more, see our [markdown\n",
    "guide](/notebooks/markdown_guide.ipynb).\n",
    "\n",
    "You can also add math to text cells using [LaTeX](http://www.latex-project.org/)\n",
    "to be rendered by [MathJax](https://www.mathjax.org). Just place the statement\n",
    "within a pair of **\\$** signs. For example `$\\sqrt{3x-1}+(1+x)^2$` becomes\n",
    "$\\sqrt{3x-1}+(1+x)^2.$\n"
   ]
  },
  {
   "cell_type": "markdown",
   "id": "f04187da",
   "metadata": {},
   "source": [
    "## Adding and moving cells\n",
    "You can add new cells by using the **+ CODE** and **+ TEXT** buttons that show when you hover between cells. These buttons are also in the toolbar above the notebook where they can be used to add a cell below the currently selected cell.\n",
    "\n",
    "You can move a cell by selecting it and clicking **Cell Up** or **Cell Down** in the top toolbar. \n",
    "\n",
    "Consecutive cells can be selected by \"lasso selection\" by dragging from outside one cell and through the group.  Non-adjacent cells can be selected concurrently by clicking one and then holding down Ctrl while clicking another.  Similarly, using Shift instead of Ctrl will select all intermediate cells."
   ]
  },
  {
   "cell_type": "markdown",
   "id": "04efe2c4",
   "metadata": {},
   "source": [
    "# Working with Python\n",
    "Colaboratory is built on top of [Jupyter Notebook](https://jupyter.org/). Below are some examples of convenience functions provided."
   ]
  },
  {
   "cell_type": "code",
   "execution_count": null,
   "id": "db4bfd4b",
   "metadata": {},
   "outputs": [],
   "source": [
    "var = 1\n",
    "name = 'NTU'\n",
    "print(name)"
   ]
  },
  {
   "cell_type": "markdown",
   "id": "407f8c56",
   "metadata": {},
   "source": [
    "To execute the code in the above cell, select it with a click and then either press the play button to the left of the code, or use the keyboard shortcut \"Command/Ctrl+Enter\".\n",
    "\n",
    "All cells modify the same global state, so variables that you define by executing a cell can be used in other cells:"
   ]
  },
  {
   "cell_type": "code",
   "execution_count": null,
   "id": "5a44fb60",
   "metadata": {},
   "outputs": [],
   "source": [
    "seconds_in_a_week = 7 * seconds_in_a_day\n",
    "seconds_in_a_week"
   ]
  },
  {
   "cell_type": "code",
   "execution_count": null,
   "id": "67e73e8d",
   "metadata": {},
   "outputs": [],
   "source": []
  },
  {
   "cell_type": "code",
   "execution_count": null,
   "id": "7a1c2e84",
   "metadata": {},
   "outputs": [],
   "source": []
  },
  {
   "cell_type": "markdown",
   "id": "0883bb1e",
   "metadata": {},
   "source": [
    "# Python Basics - Operators and Boolean Logic"
   ]
  },
  {
   "cell_type": "markdown",
   "id": "0c732f1e",
   "metadata": {},
   "source": [
    "**[ChatGPT prompt]** `What are operators in Python?`"
   ]
  },
  {
   "cell_type": "markdown",
   "id": "1200f106",
   "metadata": {},
   "source": [
    "### **Arithmetic Operators**\n",
    "For basic calculations:\n",
    "  - Addition: `+`\n",
    "  - Subtraction: `-`\n",
    "  - Multiplication: `*`\n",
    "  - Division: `/`\n",
    "  - Floor Division: `//`\n",
    "  - Modulus: `%`\n",
    "  - Exponentiation: `**`"
   ]
  },
  {
   "cell_type": "code",
   "execution_count": null,
   "id": "be654c65",
   "metadata": {},
   "outputs": [],
   "source": [
    "# Basic arithmetic\n",
    "print(10 + 5)    # Addition\n",
    "print(10 - 5)    # Subtraction\n",
    "print(10 * 5)    # Multiplication\n",
    "print(10 / 5)    # Division\n",
    "print(10 ** 2)   # Exponentiation\n",
    "print(10 // 3)   # Floor division\n",
    "print(10 % 3)    # Modulo (remainder)\n",
    "\n",
    "# Try these operations yourself!"
   ]
  },
  {
   "cell_type": "code",
   "execution_count": null,
   "id": "b9c8bfff",
   "metadata": {},
   "outputs": [],
   "source": [
    "# Arithmetic Operators\n",
    "# 1. Addition (+) for summing expenses\n",
    "office_rent = 1200\n",
    "utilities = 300\n",
    "total_expenses = office_rent + utilities    # Result: 1500"
   ]
  },
  {
   "cell_type": "code",
   "execution_count": null,
   "id": "d9365221",
   "metadata": {},
   "outputs": [],
   "source": [
    "# 2. Multiplication (*) for calculating interest\n",
    "principal = 1000\n",
    "interest_rate = 0.05\n",
    "interest_earned = principal * interest_rate    # Result: 50"
   ]
  },
  {
   "cell_type": "markdown",
   "id": "2cdad209",
   "metadata": {},
   "source": [
    "### Comparison Operators\n",
    "Comparison operators are symbols used in programming to compare two values or variables. They perform a comparison and always return a Boolean result (`True` or `False`). Think of them like math symbols that ask yes/no questions about numbers or other values.\n",
    "\n",
    "For comparing values:\n",
    "  - Equal to: `==`\n",
    "  - Not equal to: `!=`\n",
    "  - Greater than: `>`\n",
    "  - Less than: `<`\n",
    "  - Greater than or equal to: `>=`\n",
    "  - Less than or equal to: `<=`"
   ]
  },
  {
   "cell_type": "code",
   "execution_count": null,
   "id": "b55d0284",
   "metadata": {},
   "outputs": [],
   "source": [
    "# Comparison operators\n",
    "x = 5\n",
    "y = 10\n",
    "print(x < y)    # Less than\n",
    "print(x > y)    # Greater than\n",
    "print(x == y)   # Equal to\n",
    "print(x != y)   # Not equal to\n",
    "print(x <= y)   # Less than or equal to\n",
    "print(x >= y)   # Greater than or equal to\n",
    "\n",
    "# Logical operators\n",
    "print(True and True)    # AND\n",
    "print(True or False)    # OR\n",
    "print(not True)         # NOT"
   ]
  },
  {
   "cell_type": "code",
   "execution_count": null,
   "id": "17ed72ff",
   "metadata": {},
   "outputs": [],
   "source": [
    "x = 10\n",
    "y = 20\n",
    "print(x > 5 and y > 15)"
   ]
  },
  {
   "cell_type": "code",
   "execution_count": null,
   "id": "14462494",
   "metadata": {},
   "outputs": [],
   "source": [
    "x > 5 and y > 15"
   ]
  },
  {
   "cell_type": "code",
   "execution_count": null,
   "id": "304af88d",
   "metadata": {},
   "outputs": [],
   "source": [
    "# Comparison Operators\n",
    "# 3. Greater than (>) for budget analysis\n",
    "actual_expense = 5000\n",
    "budget_limit = 4500\n",
    "over_budget = actual_expense > budget_limit    # Result: True\n",
    "\n",
    "# 4. Equal to (==) for bank reconciliation\n",
    "book_balance = 10000\n",
    "bank_balance = 10000\n",
    "accounts_match = book_balance == bank_balance    # Result: True"
   ]
  },
  {
   "cell_type": "markdown",
   "id": "bf38aac4",
   "metadata": {},
   "source": [
    "### Boolean Operations\n",
    "Booleans are True/False values:"
   ]
  },
  {
   "cell_type": "code",
   "execution_count": null,
   "id": "245cd8d5",
   "metadata": {},
   "outputs": [],
   "source": [
    "### **Booleans**\n",
    "- **What are Booleans?**\n",
    "  - `True` and `False` are the two boolean values in Python.\n",
    "  - Booleans are often used in conditions and loops."
   ]
  },
  {
   "cell_type": "code",
   "execution_count": null,
   "id": "8d8578e0",
   "metadata": {},
   "outputs": [],
   "source": [
    "- **Examples**:\n",
    "  ```python\n",
    "  is_ready = True\n",
    "  print(is_ready)  # Output: True\n",
    "  print(5 > 3)     # Output: True\n",
    "  print(3 > 5)     # Output: False"
   ]
  },
  {
   "cell_type": "code",
   "execution_count": null,
   "id": "8d9e1bb6",
   "metadata": {},
   "outputs": [],
   "source": [
    "# Boolean Operators\n",
    "# 5. AND (and) for payment conditions\n",
    "payment_received = True\n",
    "payment_cleared = False\n",
    "transaction_complete = payment_received and payment_cleared    # Result: False"
   ]
  },
  {
   "cell_type": "code",
   "execution_count": null,
   "id": "703404ec",
   "metadata": {},
   "outputs": [],
   "source": [
    "# 6. OR (or) for account alerts\n",
    "overdraft_warning = True\n",
    "fraud_alert = False\n",
    "needs_attention = overdraft_warning or fraud_alert    # Result: True"
   ]
  },
  {
   "cell_type": "code",
   "execution_count": null,
   "id": "239b51b5",
   "metadata": {},
   "outputs": [],
   "source": []
  },
  {
   "cell_type": "code",
   "execution_count": null,
   "id": "c978b138",
   "metadata": {},
   "outputs": [],
   "source": []
  },
  {
   "cell_type": "markdown",
   "id": "772f1e01",
   "metadata": {},
   "source": [
    "# For Loops"
   ]
  },
  {
   "cell_type": "markdown",
   "id": "f3875c5a",
   "metadata": {},
   "source": [
    "**[ChatGPT prompt]** `What is a *for loop* in Python?`"
   ]
  },
  {
   "cell_type": "markdown",
   "id": "ca511772",
   "metadata": {},
   "source": [
    "- **Definition**:\n",
    "  - A `for` loop is used to iterate over a sequence (like a list, tuple, or range).\n",
    "\n",
    "### Basic syntax \n",
    "```python\n",
    "for item in sequence:\n",
    "    # Perform some action\n",
    "    print(item)\n",
    "```\n",
    "\n",
    "- **Example**:\n",
    "  ```python\n",
    "  for i in range(5):\n",
    "      print(\"Iteration:\", i)\n",
    "    ```"
   ]
  },
  {
   "cell_type": "markdown",
   "id": "4b2055aa",
   "metadata": {},
   "source": [
    "\n",
    "## **For Loops**\n",
    "- **Definition**:\n",
    "  - A `for` loop is used to iterate over a sequence (like a list, tuple, or range).\n",
    "\n",
    "- **Example**:\n",
    "  ```python\n",
    "  for i in range(5):\n",
    "      print(\"Iteration:\", i)\n"
   ]
  },
  {
   "cell_type": "code",
   "execution_count": null,
   "id": "1f3470f6",
   "metadata": {},
   "outputs": [],
   "source": [
    "### Iterating Over a String"
   ]
  },
  {
   "cell_type": "code",
   "execution_count": null,
   "id": "60bea896",
   "metadata": {},
   "outputs": [],
   "source": [
    "for letter in \"hello\":\n",
    "    print(letter+'3')"
   ]
  },
  {
   "cell_type": "code",
   "execution_count": null,
   "id": "7a31f48e",
   "metadata": {},
   "outputs": [],
   "source": [
    "### Using `range()`\n",
    "`range()` generates a sequence of numbers, which is commonly used with for loops."
   ]
  },
  {
   "cell_type": "code",
   "execution_count": null,
   "id": "70cd1527",
   "metadata": {},
   "outputs": [],
   "source": [
    "for i in range(5):  # Numbers 0 through 4\n",
    "    print(i)"
   ]
  },
  {
   "cell_type": "code",
   "execution_count": null,
   "id": "475021d7",
   "metadata": {},
   "outputs": [],
   "source": [
    "# Looping through a list\n",
    "fruits = ['apple', 'banana', 'orange']\n",
    "for fruit in fruits:\n",
    "    print(f\"I like {fruit}\")"
   ]
  },
  {
   "cell_type": "code",
   "execution_count": null,
   "id": "bc4d931a",
   "metadata": {},
   "outputs": [],
   "source": [
    "# Using range()\n",
    "for i in range(5):\n",
    "    print(f\"Count: {i}\")"
   ]
  },
  {
   "cell_type": "code",
   "execution_count": null,
   "id": "78dd414a",
   "metadata": {},
   "outputs": [],
   "source": [
    "for i in range(3):\n",
    "    print(i)    "
   ]
  },
  {
   "cell_type": "markdown",
   "id": "e3fbda83",
   "metadata": {},
   "source": [
    "#### Calculating Total Revenue Across Multiple Accounts\n",
    "Use a `for` loop to iterate through a list of revenues and calculate the total."
   ]
  },
  {
   "cell_type": "code",
   "execution_count": null,
   "id": "49b2f630",
   "metadata": {},
   "outputs": [],
   "source": [
    "revenues = [5000, 7000, 8500, 3000]  # Revenue from different accounts\n",
    "total_revenue = 0\n",
    "\n",
    "for revenue in revenues:\n",
    "    total_revenue += revenue\n",
    "\n",
    "print(\"Total Revenue:\", total_revenue)"
   ]
  },
  {
   "cell_type": "markdown",
   "id": "fa5daedb",
   "metadata": {},
   "source": [
    "#### Applying a Fixed Depreciation Rate to Multiple Assets\n",
    "Iterate over a list of asset values to calculate their depreciation."
   ]
  },
  {
   "cell_type": "code",
   "execution_count": null,
   "id": "0fcb902c",
   "metadata": {},
   "outputs": [],
   "source": [
    "asset_values = [10000, 20000, 15000, 30000]  # Asset values\n",
    "depreciation_rate = 0.1  # 10% depreciation rate\n",
    "\n",
    "for asset in asset_values:\n",
    "    depreciation = asset * depreciation_rate\n",
    "    print(f\"Asset Value: {asset}, Depreciation: {depreciation}\")"
   ]
  },
  {
   "cell_type": "markdown",
   "id": "36886e3f",
   "metadata": {},
   "source": [
    "#### Generating Account Names for a Chart of Accounts\n",
    "Use a for loop to create account names automatically."
   ]
  },
  {
   "cell_type": "code",
   "execution_count": null,
   "id": "f0192cfe",
   "metadata": {},
   "outputs": [],
   "source": [
    "account_prefix = \"Account_\"\n",
    "for i in range(1, 6):  # Generating accounts from 1 to 5\n",
    "    account_name = f\"{account_prefix}{i}\"\n",
    "    print(account_name)"
   ]
  },
  {
   "cell_type": "markdown",
   "id": "4d887a52",
   "metadata": {},
   "source": [
    "#### Identifying Transactions Above a Threshold\n",
    "Iterate through a list of transactions to find those exceeding a given threshold."
   ]
  },
  {
   "cell_type": "code",
   "execution_count": null,
   "id": "6802231b",
   "metadata": {},
   "outputs": [],
   "source": [
    "transactions = [200, 500, 1500, 800, 2500]  # Transaction amounts\n",
    "threshold = 1000  # Threshold value\n",
    "\n",
    "for transaction in transactions:\n",
    "    print(f\"Transaction amount: {transaction}\")\n",
    "    if transaction > threshold:\n",
    "        print(f\"\\tTransaction above threshold: {transaction}\")"
   ]
  },
  {
   "cell_type": "code",
   "execution_count": null,
   "id": "d2b53bc0",
   "metadata": {},
   "outputs": [],
   "source": [
    "# 1. Basic loop through a list of expense categories\n",
    "expense_categories = ['Rent', 'Utilities', 'Office Supplies', 'Insurance', 'Payroll']\n",
    "for category in expense_categories:\n",
    "    print(f\"Processing expenses for: {category}\")"
   ]
  },
  {
   "cell_type": "code",
   "execution_count": null,
   "id": "8ef5ad23",
   "metadata": {},
   "outputs": [],
   "source": [
    "# 2. Calculating total monthly expenses\n",
    "monthly_expenses = [1200, 350, 275, 800, 5500]\n",
    "total = 0\n",
    "for expense in monthly_expenses:\n",
    "    total += expense\n",
    "print(f\"Total monthly expenses: ${total}\")"
   ]
  },
  {
   "cell_type": "code",
   "execution_count": null,
   "id": "3013e94e",
   "metadata": {},
   "outputs": [],
   "source": [
    "# 3. Enumerate through invoice numbers with their amounts\n",
    "invoice_amounts = [150, 300, 450, 200]\n",
    "for index, amount in enumerate(invoice_amounts, start=1):\n",
    "    print(f\"Invoice #{index}: ${amount}\")"
   ]
  },
  {
   "cell_type": "code",
   "execution_count": null,
   "id": "11c7e3cd",
   "metadata": {},
   "outputs": [],
   "source": [
    "# 4. Range loop for quarterly reports\n",
    "for quarter in range(1, 5):\n",
    "    print(f\"Generating Q{quarter} financial report...\")"
   ]
  },
  {
   "cell_type": "code",
   "execution_count": null,
   "id": "44268a2d",
   "metadata": {},
   "outputs": [],
   "source": [
    "# 5. Nested loop for department budgets\n",
    "departments = ['Sales', 'Marketing']\n",
    "months = ['January', 'February', 'March']\n",
    "for dept in departments:\n",
    "    for month in months:\n",
    "        print(f\"Reviewing {dept} budget for {month}\")"
   ]
  },
  {
   "cell_type": "markdown",
   "id": "c8672838",
   "metadata": {},
   "source": [
    "# Practice Exercise\n",
    "Try these exercises to reinforce what you've learned:\n",
    "\n",
    "1. Create a list of numbers and calculate their sum using a for loop\n",
    "2. Write a program that prints numbers 1-10 using a while loop\n",
    "3. Create a program that checks if a number is positive, negative, or zero"
   ]
  },
  {
   "cell_type": "code",
   "execution_count": null,
   "id": "ddf80d40",
   "metadata": {},
   "outputs": [],
   "source": [
    "# Exercise 1 solution\n",
    "numbers = [1, 2, 3, 4, 5]\n",
    "total = 0\n",
    "for num in numbers:\n",
    "    total += num\n",
    "print(f\"Sum: {total}\")"
   ]
  },
  {
   "cell_type": "markdown",
   "id": "1a710e97",
   "metadata": {},
   "source": [
    "Write a script to calculate and print the area of a rectangle.\n",
    "\n",
    "*Hint*: Here is some starter code (replace \"...\" with code)"
   ]
  },
  {
   "cell_type": "code",
   "execution_count": null,
   "id": "83b441b7",
   "metadata": {},
   "outputs": [],
   "source": [
    "length = 5\n",
    "width = 10\n",
    "area = ...\n",
    "print(\"The area of the rectangle is:\" ..."
   ]
  },
  {
   "cell_type": "markdown",
   "id": "a84ee74d",
   "metadata": {},
   "source": [
    "### Solution\n",
    "<details>\n",
    "<summary>Click to expand</summary>\n",
    "\n",
    "```python\n",
    "length = 5\n",
    "width = 10\n",
    "area = length * width\n",
    "print(\"The area of the rectangle is:\", area)\n",
    "```"
   ]
  },
  {
   "cell_type": "code",
   "execution_count": null,
   "id": "359c2984",
   "metadata": {},
   "outputs": [],
   "source": [
    "length = float(input(\"Enter the length: \"))\n",
    "width = float(input(\"Enter the width: \"))\n",
    "area = length * width\n",
    "print(f\"The area of the rectangle is {area}\")"
   ]
  },
  {
   "cell_type": "code",
   "execution_count": null,
   "id": "9df0ec40",
   "metadata": {},
   "outputs": [],
   "source": []
  },
  {
   "cell_type": "code",
   "execution_count": null,
   "id": "559d83cf",
   "metadata": {},
   "outputs": [],
   "source": []
  },
  {
   "cell_type": "code",
   "execution_count": null,
   "id": "951e4c52",
   "metadata": {},
   "outputs": [],
   "source": []
  },
  {
   "cell_type": "code",
   "execution_count": null,
   "id": "f8dbce26",
   "metadata": {},
   "outputs": [],
   "source": []
  },
  {
   "cell_type": "markdown",
   "id": "35dd2a7b",
   "metadata": {},
   "source": [
    "# If-Else Statements\n",
    "\n",
    "**[ChatGPT prompt]** `What is an *if-else* statement in Python?`"
   ]
  },
  {
   "cell_type": "code",
   "execution_count": null,
   "id": "ebd6e362",
   "metadata": {},
   "outputs": [],
   "source": [
    "#### Example"
   ]
  },
  {
   "cell_type": "code",
   "execution_count": null,
   "id": "9664aac6",
   "metadata": {},
   "outputs": [],
   "source": [
    "x = 10\n",
    "if x > 5:\n",
    "    print(\"x is greater than 5\")\n",
    "else:\n",
    "    print(\"x is not greater than 5\")"
   ]
  },
  {
   "cell_type": "code",
   "execution_count": null,
   "id": "bb3f33b4",
   "metadata": {},
   "outputs": [],
   "source": [
    "Use `elif` (short for \"else if\") to test additional conditions."
   ]
  },
  {
   "cell_type": "code",
   "execution_count": null,
   "id": "0991de18",
   "metadata": {},
   "outputs": [],
   "source": [
    "x = 10\n",
    "if x > 20:\n",
    "    print(\"x is greater than 20\")\n",
    "elif x > 5:\n",
    "    print(\"x is greater than 5 but not greater than 20\")\n",
    "else:\n",
    "    print(\"x is 5 or less\")"
   ]
  },
  {
   "cell_type": "code",
   "execution_count": null,
   "id": "c1a3652c",
   "metadata": {},
   "outputs": [],
   "source": [
    "`if` statements often use comparison operators:"
   ]
  },
  {
   "cell_type": "code",
   "execution_count": null,
   "id": "895f9570",
   "metadata": {},
   "outputs": [],
   "source": [
    "age = 18\n",
    "if age >= 18:\n",
    "    print(\"You are eligible to vote\")\n",
    "else:\n",
    "    print(\"You are not eligible to vote\")"
   ]
  },
  {
   "cell_type": "code",
   "execution_count": null,
   "id": "dce15aa7",
   "metadata": {},
   "outputs": [],
   "source": [
    "You can combine multiple conditions using logical operators:\n",
    "- Examples with `and`, `or`, and `not`"
   ]
  },
  {
   "cell_type": "code",
   "execution_count": null,
   "id": "9bfef064",
   "metadata": {},
   "outputs": [],
   "source": [
    "x = 15\n",
    "if x > 10 and x < 20:\n",
    "    print(\"x is between 10 and 20\")\n",
    "else:\n",
    "    print(\"x is not in the range\")"
   ]
  },
  {
   "cell_type": "code",
   "execution_count": null,
   "id": "7d954acf",
   "metadata": {},
   "outputs": [],
   "source": [
    "x = 5\n",
    "if x < 10 or x > 20:\n",
    "    print(\"x is outside the range of 10 to 20\")\n",
    "else:\n",
    "    print(\"x is within the range\")"
   ]
  },
  {
   "cell_type": "code",
   "execution_count": null,
   "id": "47b0e263",
   "metadata": {},
   "outputs": [],
   "source": [
    "logged_in = False\n",
    "if not logged_in:\n",
    "    print(\"Please log in\")\n",
    "else:\n",
    "    print(\"Welcome!\")"
   ]
  },
  {
   "cell_type": "markdown",
   "id": "df6de1a1",
   "metadata": {},
   "source": [
    "An if-else statement in Python is a conditional control structure that allows you to execute specific blocks of code based on whether a given condition evaluates to True or False. It helps in decision-making within a program.\n",
    "\n",
    "### Basic syntax \n",
    "```python\n",
    "if condition:\n",
    "    # Code to execute if condition is True\n",
    "else:\n",
    "    # Code to execute if condition is False\n",
    "```"
   ]
  },
  {
   "cell_type": "code",
   "execution_count": null,
   "id": "0c1e5f6a",
   "metadata": {},
   "outputs": [],
   "source": []
  },
  {
   "cell_type": "markdown",
   "id": "84c7f247",
   "metadata": {},
   "source": [
    "`if-elif-else` Statements\n",
    "\n",
    "The `if-elif-else` structure allows decision-making in Python by executing code blocks based on conditions.\n",
    "\n",
    "#### **Structure:**\n",
    "```python\n",
    "if condition1:\n",
    "    # Code block 1\n",
    "elif condition2:\n",
    "    # Code block 2\n",
    "else:\n",
    "    # Code block 3\n",
    "```"
   ]
  },
  {
   "cell_type": "code",
   "execution_count": null,
   "id": "2f95e0c7",
   "metadata": {},
   "outputs": [],
   "source": [
    "# Example\n",
    "num = 10\n",
    "if num > 0:\n",
    "    print(\"Positive number\")\n",
    "elif num == 0:\n",
    "    print(\"Zero\")\n",
    "else:\n",
    "    print(\"Negative number\")\n"
   ]
  },
  {
   "cell_type": "markdown",
   "id": "f4971d96",
   "metadata": {},
   "source": [
    "### Explanation:\n",
    "1. `if` block:\n",
    "- The first condition is checked.\n",
    "- If it evaluates to True, the associated code block runs.\n",
    "2. `elif` block:\n",
    "- Additional conditions can be specified.\n",
    "- Runs only if the previous conditions were False and this one is True.\n",
    "3. `else` block:\n",
    "- A fallback block that runs if none of the above conditions are True.\n"
   ]
  },
  {
   "cell_type": "markdown",
   "id": "671b71ce",
   "metadata": {},
   "source": [
    "##### Another example"
   ]
  },
  {
   "cell_type": "code",
   "execution_count": null,
   "id": "ec719b35",
   "metadata": {},
   "outputs": [],
   "source": [
    "age = 18\n",
    "\n",
    "if age < 13:\n",
    "    print(\"You're a child\")\n",
    "elif age < 20:\n",
    "    print(\"You're a teenager\")\n",
    "else:\n",
    "    print(\"You're an adult\")"
   ]
  },
  {
   "cell_type": "markdown",
   "id": "8b7a6643",
   "metadata": {},
   "source": [
    "### Nested If Statements:\n",
    "You can nest one `if` statement inside another for more complex logic:"
   ]
  },
  {
   "cell_type": "code",
   "execution_count": null,
   "id": "b747fb29",
   "metadata": {},
   "outputs": [],
   "source": [
    "num = 10\n",
    "if num > 0:\n",
    "    if num % 2 == 0:\n",
    "        print(\"Positive and even\")\n",
    "    else:\n",
    "        print(\"Positive and odd\")\n",
    "else:\n",
    "    print(\"Non-positive number\")\n"
   ]
  },
  {
   "cell_type": "markdown",
   "id": "c0908c40",
   "metadata": {},
   "source": [
    "#### Tips:\n",
    "Use logical operators (`and`, `or`, `not`) to combine conditions"
   ]
  },
  {
   "cell_type": "code",
   "execution_count": null,
   "id": "65e84c89",
   "metadata": {},
   "outputs": [],
   "source": [
    "if num > 0 and num % 2 == 0:\n",
    "    print(\"Positive and even\")"
   ]
  },
  {
   "cell_type": "markdown",
   "id": "d1394ba8",
   "metadata": {},
   "source": [
    "Ensure conditions are clear and concise for readability."
   ]
  },
  {
   "cell_type": "markdown",
   "id": "0420b78c",
   "metadata": {},
   "source": [
    "#### Checking for Overdue Payments\n",
    "Determine whether a payment is overdue based on the number of days past due."
   ]
  },
  {
   "cell_type": "code",
   "execution_count": null,
   "id": "a72c993e",
   "metadata": {},
   "outputs": [],
   "source": [
    "days_past_due = 45  # Days past the due date\n",
    "\n",
    "if days_past_due > 30:\n",
    "    print(\"The payment is overdue.\")\n",
    "else:\n",
    "    print(\"The payment is on time.\")"
   ]
  },
  {
   "cell_type": "markdown",
   "id": "ea6bd219",
   "metadata": {},
   "source": [
    "Categorizing Account Balances as Positive, Negative, or Zero\n",
    "Classify an account balance using if-elif-else."
   ]
  },
  {
   "cell_type": "markdown",
   "id": "35c61c96",
   "metadata": {},
   "source": [
    "balance = -200  # Account balance\n",
    "\n",
    "if balance > 0:\n",
    "    print(\"The account has a positive balance.\")\n",
    "elif balance < 0:\n",
    "    print(\"The account is overdrawn.\")\n",
    "else:\n",
    "    print(\"The account has a zero balance.\")\n",
    "    "
   ]
  },
  {
   "cell_type": "code",
   "execution_count": null,
   "id": "7bb3df69",
   "metadata": {},
   "outputs": [],
   "source": [
    "# 1. Check if account is overdrawn\n",
    "balance = 500\n",
    "if balance < 0:\n",
    "    print(\"Account is overdrawn\")\n",
    "else:\n",
    "    print(\"Account balance is positive\")"
   ]
  },
  {
   "cell_type": "code",
   "execution_count": null,
   "id": "7e61b498",
   "metadata": {},
   "outputs": [],
   "source": [
    "# 2. Classify transaction size\n",
    "transaction = 1500\n",
    "if transaction >= 1000:\n",
    "    print(\"This is a large transaction\")\n",
    "else:\n",
    "    print(\"This is a regular transaction\")"
   ]
  },
  {
   "cell_type": "code",
   "execution_count": null,
   "id": "ff8a6e59",
   "metadata": {},
   "outputs": [],
   "source": [
    "# 3. Check if invoice is paid\n",
    "amount_due = 0\n",
    "if amount_due == 0:\n",
    "    print(\"Invoice has been paid\")\n",
    "else:\n",
    "    print(\"Invoice is still outstanding\")"
   ]
  },
  {
   "cell_type": "code",
   "execution_count": null,
   "id": "004ac97f",
   "metadata": {},
   "outputs": [],
   "source": [
    "# 4. Determine expense category\n",
    "expense = 50000\n",
    "if expense > 10000:\n",
    "    print(\"This is a capital expense\")\n",
    "else:\n",
    "    print(\"This is an operational expense\")"
   ]
  },
  {
   "cell_type": "code",
   "execution_count": null,
   "id": "950ed225",
   "metadata": {},
   "outputs": [],
   "source": [
    "# 5. Check fiscal year end\n",
    "month = \"December\"\n",
    "if month == \"December\":\n",
    "    print(\"Close the books for year end\")\n",
    "else:\n",
    "    print(\"Regular monthly closing\")"
   ]
  },
  {
   "cell_type": "markdown",
   "id": "6bf56bcf",
   "metadata": {},
   "source": [
    "Explanation of `for` loops.\n",
    "Coding Exercise 3:\n",
    "Write a script to calculate the sum of numbers from 1 to 5.\n",
    "```python\n",
    "total = 0\n",
    "for i in range(1, 101):\n",
    "    total += i\n",
    "print(\"Sum:\", total)\n",
    "```"
   ]
  },
  {
   "cell_type": "code",
   "execution_count": 50,
   "id": "8ff9eea2",
   "metadata": {},
   "outputs": [
    {
     "name": "stdout",
     "output_type": "stream",
     "text": [
      "1\n",
      "Running total: 1\n",
      "2\n",
      "Running total: 3\n",
      "3\n",
      "Running total: 6\n",
      "4\n",
      "Running total: 10\n",
      "5\n",
      "Running total: 15\n",
      "Sum: 15\n"
     ]
    }
   ],
   "source": [
    "total = 0\n",
    "for i in range(1, 6):\n",
    "    print(i)\n",
    "    total += i\n",
    "    print(\"Running total:\", total)\n",
    "print(\"Sum:\", total)"
   ]
  },
  {
   "cell_type": "code",
   "execution_count": null,
   "id": "5319ceb6",
   "metadata": {},
   "outputs": [],
   "source": []
  },
  {
   "cell_type": "code",
   "execution_count": null,
   "id": "092100b7",
   "metadata": {},
   "outputs": [],
   "source": []
  },
  {
   "cell_type": "code",
   "execution_count": null,
   "id": "bd854a09",
   "metadata": {},
   "outputs": [],
   "source": []
  },
  {
   "cell_type": "code",
   "execution_count": null,
   "id": "04509efd",
   "metadata": {},
   "outputs": [],
   "source": []
  },
  {
   "cell_type": "markdown",
   "id": "b0fe6310",
   "metadata": {},
   "source": [
    "### While loops\n",
    "\n",
    "A `while` loop continues to execute as long as the condition is `True`.\n",
    "\n",
    "**Example:**\n",
    "```python\n",
    "count = 0\n",
    "while count < 5:\n",
    "    print(\"Count:\", count)\n",
    "    count += 1\n",
    "```"
   ]
  },
  {
   "cell_type": "code",
   "execution_count": null,
   "id": "b0d1fe4e",
   "metadata": {},
   "outputs": [],
   "source": [
    "# Counting with while loop\n",
    "count = 0\n",
    "while count < 5:\n",
    "    print(f\"Count is: {count}\")\n",
    "    count += 1"
   ]
  },
  {
   "cell_type": "code",
   "execution_count": null,
   "id": "f1cb96cb",
   "metadata": {},
   "outputs": [],
   "source": []
  },
  {
   "cell_type": "code",
   "execution_count": null,
   "id": "a46b9763",
   "metadata": {},
   "outputs": [],
   "source": []
  },
  {
   "cell_type": "markdown",
   "id": "e2c36d63",
   "metadata": {},
   "source": [
    "### Lists\n",
    "Lists are collections of items that are ordered and mutable (can be changed).\n",
    "\n",
    "##### **Key Features:**\n",
    "- Items in a list can be of any data type (e.g., integers, strings, other lists).\n",
    "- Lists are indexed, starting from `0`.\n",
    "\n",
    "##### **Examples:**"
   ]
  },
  {
   "cell_type": "code",
   "execution_count": null,
   "id": "50ef0358",
   "metadata": {},
   "outputs": [],
   "source": [
    "# Creating and using lists\n",
    "fruits = ['apple', 'banana', 'orange']\n",
    "print(fruits[0])        # First element\n",
    "print(fruits[-1])       # Last element\n",
    "print(len(fruits))      # List length\n",
    "fruits.append('grape')  # Add item\n",
    "fruits.remove('apple')  # Remove item\n",
    "print(fruits)"
   ]
  },
  {
   "cell_type": "code",
   "execution_count": null,
   "id": "e1372f38",
   "metadata": {},
   "outputs": [],
   "source": [
    "# Creating a list\n",
    "numbers = [1, 2, 3, 4, 5]"
   ]
  },
  {
   "cell_type": "code",
   "execution_count": null,
   "id": "a5dd2a9d",
   "metadata": {},
   "outputs": [],
   "source": [
    "# Accessing elements by index\n",
    "print(numbers[0])  # Output: 1"
   ]
  },
  {
   "cell_type": "markdown",
   "id": "ede80ae4",
   "metadata": {},
   "source": [
    "#### Modifying a list"
   ]
  },
  {
   "cell_type": "code",
   "execution_count": null,
   "id": "b6100ed4",
   "metadata": {},
   "outputs": [],
   "source": [
    "numbers.append(6)   # Add an item to the end of the list\n",
    "print(numbers)      # Output: [1, 2, 3, 4, 5, 6]"
   ]
  },
  {
   "cell_type": "code",
   "execution_count": null,
   "id": "402af8c8",
   "metadata": {},
   "outputs": [],
   "source": [
    "# Slicing a list\n",
    "print(numbers[1:4]) # Output: [2, 3, 4]"
   ]
  },
  {
   "cell_type": "markdown",
   "id": "b0c54c80",
   "metadata": {},
   "source": [
    "#### Common List Operations:\n",
    "Add items: `list.append(item)`  \n",
    "Remove items: `list.remove(item) or list.pop(index)`  \n",
    "Sort a list: `list.sort() or sorted(list)`  \n",
    "Get the length: `len(list)`"
   ]
  },
  {
   "cell_type": "markdown",
   "id": "e4481b57",
   "metadata": {},
   "source": [
    "#### Tips:\n",
    "- Lists are great for storing multiple items in an ordered way.\n",
    "- Use list comprehensions for concise and efficient operations:"
   ]
  },
  {
   "cell_type": "code",
   "execution_count": null,
   "id": "ad9a4b64",
   "metadata": {},
   "outputs": [],
   "source": [
    "squares = [x**2 for x in range(5)]\n",
    "print(squares)  # Output: [0, 1, 4, 9, 16]"
   ]
  },
  {
   "cell_type": "code",
   "execution_count": null,
   "id": "7cba9a95",
   "metadata": {},
   "outputs": [],
   "source": []
  },
  {
   "cell_type": "code",
   "execution_count": null,
   "id": "2ac95628",
   "metadata": {},
   "outputs": [],
   "source": []
  },
  {
   "cell_type": "markdown",
   "id": "98190d57",
   "metadata": {},
   "source": [
    "# Additional Tips\n",
    "\n",
    "- Use meaningful variable names\n",
    "- Add comments to explain your code\n",
    "- Practice regularly\n",
    "- Don't be afraid to experiment!"
   ]
  },
  {
   "cell_type": "code",
   "execution_count": null,
   "id": "4a89d981",
   "metadata": {},
   "outputs": [],
   "source": []
  },
  {
   "cell_type": "markdown",
   "id": "d0cc70c0",
   "metadata": {},
   "source": []
  },
  {
   "cell_type": "code",
   "execution_count": null,
   "id": "9ae4873a",
   "metadata": {},
   "outputs": [],
   "source": []
  },
  {
   "cell_type": "code",
   "execution_count": null,
   "id": "5bab63d6",
   "metadata": {},
   "outputs": [],
   "source": []
  },
  {
   "cell_type": "code",
   "execution_count": null,
   "id": "b267ad5e",
   "metadata": {},
   "outputs": [],
   "source": []
  },
  {
   "cell_type": "markdown",
   "id": "b28b1637",
   "metadata": {},
   "source": [
    "## **2. Colab Shortcuts**\n",
    "- **Run Code Cell**: `Shift + Enter`\n",
    "- **Insert New Cell**: `Ctrl + M + B` (Windows) or `Cmd + M + B` (Mac)\n",
    "- **Delete a Cell**: `Ctrl + M + D` (Windows) or `Cmd + M + D` (Mac)\n",
    "- **Undo Last Action**: `Ctrl + Z` or `Cmd + Z`\n",
    "- **Show All Shortcuts**: `Ctrl + M + H` or `Cmd + M + H`"
   ]
  },
  {
   "cell_type": "markdown",
   "id": "3073b4d5",
   "metadata": {},
   "source": [
    "### Useful Colab Shortcuts (Windows)\n",
    "* `Ctrl + Enter`: Run current cell\n",
    "* `Shift + Enter`: Run current cell and move to next cell\n",
    "* `Alt + Enter`: Run current cell and create new cell below\n",
    "* `Ctrl + M B`: Create new cell below\n",
    "* `Ctrl + M A`: Create new cell above\n",
    "* `Ctrl + M D`: Delete current cell\n",
    "* `Ctrl + M M`: Convert cell to markdown\n",
    "\n",
    "\n",
    "### Useful Colab Shortcuts (Mac)\n",
    "* `Cmd + Enter`: Run current cell\n",
    "* `Shift + Enter`: Run current cell and move to next cell\n",
    "* `Option + Enter`: Run current cell and create new cell below\n",
    "* `Cmd + M B`: Create new cell below\n",
    "* `Cmd + M A`: Create new cell above\n",
    "* `Cmd + M D`: Delete current cell\n",
    "* `Cmd + M M`: Convert cell to markdown\n",
    "* `Cmd + /`: Comment/uncomment selected lines\n",
    "* `Cmd + ]`: Indent text\n",
    "* `Cmd + [`: Unindent text\n",
    "* `Cmd + F`: Find and replace\n",
    "* `Cmd + S`: Save notebook"
   ]
  },
  {
   "cell_type": "code",
   "execution_count": null,
   "id": "9f9e5149",
   "metadata": {},
   "outputs": [],
   "source": []
  },
  {
   "cell_type": "code",
   "execution_count": null,
   "id": "1a16fc0c",
   "metadata": {},
   "outputs": [],
   "source": []
  },
  {
   "cell_type": "markdown",
   "id": "0927ad45",
   "metadata": {},
   "source": [
    "## Getting Help\n",
    "\n",
    "Python provides several ways to get help when you’re unsure about a function, module, or syntax.\n",
    "\n",
    "### **1. Using the `help()` Function**\n",
    "The `help()` function displays detailed documentation about Python objects, including functions, modules, and classes.\n",
    "\n",
    "#### **Examples:**"
   ]
  },
  {
   "cell_type": "code",
   "execution_count": null,
   "id": "de584e85",
   "metadata": {},
   "outputs": [],
   "source": [
    "# Using help()\n",
    "help(len)  # Displays documentation for the 'len' function"
   ]
  },
  {
   "cell_type": "code",
   "execution_count": null,
   "id": "17392c3d",
   "metadata": {},
   "outputs": [],
   "source": [
    "# Using dir() to see available methods\n",
    "print(dir([]))  # Shows all list methods"
   ]
  },
  {
   "cell_type": "code",
   "execution_count": null,
   "id": "f9b43c95",
   "metadata": {},
   "outputs": [],
   "source": [
    "# Getting function documentation\n",
    "print(abs.__doc__)"
   ]
  },
  {
   "cell_type": "markdown",
   "id": "d32a066a",
   "metadata": {},
   "source": [
    "#### Using ? in Colab\n",
    "Colab allows you to use ? to get quick help on Python objects."
   ]
  },
  {
   "cell_type": "code",
   "execution_count": null,
   "id": "0bec7387",
   "metadata": {},
   "outputs": [],
   "source": [
    "len?  # Displays help for the 'len' function\n"
   ]
  },
  {
   "cell_type": "code",
   "execution_count": null,
   "id": "cfbafe4d",
   "metadata": {},
   "outputs": [],
   "source": [
    "range?  # Displays help for the 'range' function\n"
   ]
  },
  {
   "cell_type": "markdown",
   "id": "26375d3c",
   "metadata": {},
   "source": [
    "#### Searching Online\n",
    "Visit Python’s official documentation: docs.python.org\n",
    "Search coding issues or questions on Stack Overflow for community support."
   ]
  },
  {
   "cell_type": "markdown",
   "id": "a31e2f2c",
   "metadata": {},
   "source": [
    "#### Reading Error Messages\n",
    "When your code throws an error:\n",
    "\n",
    "Read the error traceback carefully. It often provides clues about what went wrong.\n",
    "Example: A `TypeError` might indicate a mismatch in data types."
   ]
  },
  {
   "cell_type": "markdown",
   "id": "4f1c6c4e",
   "metadata": {},
   "source": [
    "#### Colab-Specific Tips\n",
    "Hover Over: Place your mouse over a function or variable to see additional details in Colab.\n",
    "Table of Contents: Use Colab's Table of Contents panel to navigate through sections of your notebook quickly."
   ]
  },
  {
   "cell_type": "code",
   "execution_count": null,
   "id": "e735600a",
   "metadata": {},
   "outputs": [],
   "source": [
    "# Example Error: TypeError\n",
    "print(\"The sum is: \" + 5)  # This will throw a TypeError because you cannot add a string and an integer\n"
   ]
  },
  {
   "cell_type": "code",
   "execution_count": null,
   "id": "3be3f0c5",
   "metadata": {},
   "outputs": [],
   "source": []
  },
  {
   "cell_type": "code",
   "execution_count": null,
   "id": "a82780ca",
   "metadata": {},
   "outputs": [],
   "source": []
  },
  {
   "cell_type": "markdown",
   "id": "649b40fc",
   "metadata": {},
   "source": [
    "For more information about working with Colaboratory notebooks, see [Overview of Colaboratory](/notebooks/basic_features_overview.ipynb).\n"
   ]
  },
  {
   "cell_type": "markdown",
   "id": "778c7231",
   "metadata": {},
   "source": [
    "# Important Resources\n",
    "\n",
    "Learn how to make the most of Python, Jupyter, Colaboratory, and related tools with these resources:\n",
    "\n",
    "### Working with Notebooks in Colaboratory\n",
    "- [Overview of Colaboratory](/notebooks/basic_features_overview.ipynb)  \n",
    "- [Guide to Markdown](/notebooks/markdown_guide.ipynb)\n",
    "- [Importing libraries and installing dependencies](/notebooks/snippets/importing_libraries.ipynb)\n",
    "- [Saving and loading notebooks in GitHub](https://colab.research.google.com/github/googlecolab/colabtools/blob/master/notebooks/colab-github-demo.ipynb)\n",
    "\n",
    "### Working with Data\n",
    "- [Loading data: Drive, Sheets, and Google Cloud Storage](/notebooks/io.ipynb)\n",
    "- [Charts: visualizing data](/notebooks/charts.ipynb)\n",
    "- [Getting started with BigQuery](/notebooks/bigquery.ipynb)"
   ]
  },
  {
   "cell_type": "markdown",
   "id": "bacfba29",
   "metadata": {},
   "source": [
    "## Open In Colab Badge\n",
    "\n",
    "Anybody can open a copy of any github-hosted notebook within Colab. To make it easier to give people access to live views of GitHub-hosted notebooks,\n",
    "colab provides a [shields.io](http://shields.io/)-style badge, which appears as follows:\n",
    "\n",
    "[![Open In Colab](https://colab.research.google.com/assets/colab-badge.svg)](https://colab.research.google.com/github/gdsaxton/GDAN5400/blob/main/Coding%20Assignment%20%231/GDAN%205400%20%E2%80%93%20Coding%20Assignment%201.ipynb)"
   ]
  },
  {
   "cell_type": "markdown",
   "id": "3891bbf5",
   "metadata": {},
   "source": [
    "# ChatGPT Prompts\n",
    "\n",
    "``What is a for loop?``\n",
    "\n",
    "`` What is an if-else statement?``"
   ]
  },
  {
   "cell_type": "code",
   "execution_count": null,
   "id": "38ba123e",
   "metadata": {},
   "outputs": [],
   "source": []
  },
  {
   "cell_type": "code",
   "execution_count": null,
   "id": "5d4b02af",
   "metadata": {},
   "outputs": [],
   "source": [
    "import pandas as pd"
   ]
  },
  {
   "cell_type": "code",
   "execution_count": null,
   "id": "c5f1f867",
   "metadata": {},
   "outputs": [],
   "source": [
    "length = 5\n",
    "width = 10\n",
    "area = length * width\n",
    "print(\"Area:\", area)"
   ]
  },
  {
   "cell_type": "markdown",
   "id": "523d1cd9",
   "metadata": {},
   "source": [
    "### Conditionals\n",
    "- For decision-making"
   ]
  },
  {
   "cell_type": "code",
   "execution_count": null,
   "id": "6c89c8f7",
   "metadata": {},
   "outputs": [],
   "source": [
    "num = -5\n",
    "if num > 0:\n",
    "    print(\"Positive\")\n",
    "elif num == 0:\n",
    "    print(\"Zero\")\n",
    "else:\n",
    "    print(\"Negative\")\n"
   ]
  },
  {
   "cell_type": "code",
   "execution_count": null,
   "id": "9f598ca3",
   "metadata": {},
   "outputs": [],
   "source": [
    "### Loops"
   ]
  },
  {
   "cell_type": "code",
   "execution_count": null,
   "id": "be9c1231",
   "metadata": {},
   "outputs": [],
   "source": [
    "total = 0\n",
    "for i in range(1, 101):\n",
    "    total += i\n",
    "print(\"Sum:\", total)\n"
   ]
  },
  {
   "cell_type": "code",
   "execution_count": null,
   "id": "4149275e",
   "metadata": {},
   "outputs": [],
   "source": [
    "### Functions"
   ]
  },
  {
   "cell_type": "code",
   "execution_count": null,
   "id": "650a6f96",
   "metadata": {},
   "outputs": [],
   "source": [
    "def celsius_to_fahrenheit(celsius):\n",
    "    return (celsius * 9/5) + 32\n",
    "print(celsius_to_fahrenheit(25))\n"
   ]
  },
  {
   "cell_type": "code",
   "execution_count": null,
   "id": "a59b4119",
   "metadata": {},
   "outputs": [],
   "source": [
    "### Example Exercises"
   ]
  },
  {
   "cell_type": "code",
   "execution_count": null,
   "id": "f3a56404",
   "metadata": {},
   "outputs": [],
   "source": [
    "# Variables and Data Types:\n",
    "\n",
    "length = float(input(\"Enter the length: \"))\n",
    "width = float(input(\"Enter the width: \"))\n",
    "area = length * width\n",
    "print(f\"The area of the rectangle is {area}\")\n"
   ]
  },
  {
   "cell_type": "code",
   "execution_count": null,
   "id": "69edd119",
   "metadata": {},
   "outputs": [],
   "source": [
    "#Conditionals:\n",
    "    \n",
    "year = int(input(\"Enter a year: \"))\n",
    "if (year % 4 == 0 and year % 100 != 0) or (year % 400 == 0):\n",
    "    print(\"Leap year\")\n",
    "else:\n",
    "    print(\"Not a leap year\")\n"
   ]
  },
  {
   "cell_type": "code",
   "execution_count": null,
   "id": "9ecee354",
   "metadata": {},
   "outputs": [],
   "source": [
    "# Loops:\n",
    "n = int(input(\"Enter the number of Fibonacci terms: \"))\n",
    "a, b = 0, 1\n",
    "for _ in range(n):\n",
    "    print(a, end=\" \")\n",
    "    a, b = b, a + b\n"
   ]
  },
  {
   "cell_type": "markdown",
   "id": "c9813c6d",
   "metadata": {},
   "source": [
    "# Preview of Week 2: Exploratory Data Analysis\n",
    "- Understand how to load and save datasets in different formats\n",
    "- Explore datasets using PANDAS\n",
    "- Data Cleaning and Filtering\n",
    "- Key Elements\n",
    "  - Videos with associated code notebooks\n",
    "  - Assignment #1\n",
    "  - Code and assignments available on GDAN 5400 GitHub repository\n",
    "  - Additional practice: Kaggle tutorials and exercises\n",
    "- Reminders:\n",
    "  - Week 2 is asynchronous\n",
    "  - Assignment 1 is due in two weeks  "
   ]
  },
  {
   "cell_type": "markdown",
   "id": "7a014c27",
   "metadata": {},
   "source": [
    "### Introduction to DataFrames\n",
    "\n",
    "* What is a DataFrame?\n",
    "* The role of PANDAS in data manipulation\n",
    "* Demonstrate basic operations:\n",
    "\n",
    "```python\n",
    "import pandas as pd\n",
    "data = {'Name': ['Alice', 'Bob'], 'Age': [25, 30]}\n",
    "df = pd.DataFrame(data)\n",
    "print(df)\n",
    "```"
   ]
  },
  {
   "cell_type": "code",
   "execution_count": null,
   "id": "bcc04b69",
   "metadata": {},
   "outputs": [],
   "source": [
    "import pandas as pd\n",
    "data = {'Name': ['Alice', 'Bob'], 'Age': [25, 30]}\n",
    "df = pd.DataFrame(data)\n",
    "df"
   ]
  },
  {
   "cell_type": "code",
   "execution_count": null,
   "id": "e7dd2430",
   "metadata": {},
   "outputs": [],
   "source": [
    "pd.DataFrame(data)"
   ]
  },
  {
   "cell_type": "code",
   "execution_count": null,
   "id": "1761794d",
   "metadata": {},
   "outputs": [],
   "source": [
    "df.info()"
   ]
  },
  {
   "cell_type": "code",
   "execution_count": null,
   "id": "7b9fd40f",
   "metadata": {},
   "outputs": [],
   "source": [
    "df['Age'] - 5"
   ]
  },
  {
   "cell_type": "code",
   "execution_count": null,
   "id": "0d208998",
   "metadata": {},
   "outputs": [],
   "source": [
    "df"
   ]
  },
  {
   "cell_type": "code",
   "execution_count": null,
   "id": "b3d07b54",
   "metadata": {},
   "outputs": [],
   "source": [
    "df['Age'] = df['Age'] - 5"
   ]
  },
  {
   "cell_type": "code",
   "execution_count": null,
   "id": "c0af8a53",
   "metadata": {},
   "outputs": [],
   "source": [
    "df"
   ]
  },
  {
   "cell_type": "markdown",
   "id": "8f04d635",
   "metadata": {},
   "source": [
    "# Important Resources\n",
    "\n",
    "Learn how to make the most of Python, Jupyter, Colaboratory, and related tools with these resources:\n",
    "\n",
    "### Working with Notebooks in Colaboratory\n",
    "- [Overview of Colaboratory](https://colab.research.google.com/notebooks/basic_features_overview.ipynb)  \n",
    "- [Guide to Markdown](https://colab.research.google.com/notebooks/markdown_guide.ipynb)\n",
    "- [Importing libraries and installing dependencies](https://colab.research.google.com/notebooks/snippets/importing_libraries.ipynb)\n",
    "- [Saving and loading notebooks in GitHub](https://colab.research.google.com/github/googlecolab/colabtools/blob/master/notebooks/colab-github-demo.ipynb)\n",
    "\n",
    "### Working with Data\n",
    "- [Loading data: Drive, Sheets, and Google Cloud Storage](https://colab.research.google.com/notebooks/io.ipynb)\n",
    "- [Charts: visualizing data](https://colab.research.google.com/notebooks/charts.ipynb)\n",
    "- [Getting started with BigQuery](https://colab.research.google.com/notebooks/bigquery.ipynb)"
   ]
  },
  {
   "cell_type": "code",
   "execution_count": null,
   "id": "fc060d6e",
   "metadata": {},
   "outputs": [],
   "source": []
  },
  {
   "cell_type": "code",
   "execution_count": null,
   "id": "7a206776",
   "metadata": {},
   "outputs": [],
   "source": []
  },
  {
   "cell_type": "code",
   "execution_count": null,
   "id": "ccbcb19b",
   "metadata": {},
   "outputs": [],
   "source": []
  },
  {
   "cell_type": "code",
   "execution_count": null,
   "id": "c94e9c07",
   "metadata": {},
   "outputs": [],
   "source": []
  },
  {
   "cell_type": "code",
   "execution_count": null,
   "id": "d28f3a23",
   "metadata": {},
   "outputs": [],
   "source": []
  }
 ],
 "metadata": {
  "kernelspec": {
   "display_name": "Python 3 (ipykernel)",
   "language": "python",
   "name": "python3"
  },
  "language_info": {
   "codemirror_mode": {
    "name": "ipython",
    "version": 3
   },
   "file_extension": ".py",
   "mimetype": "text/x-python",
   "name": "python",
   "nbconvert_exporter": "python",
   "pygments_lexer": "ipython3",
   "version": "3.9.7"
  }
 },
 "nbformat": 4,
 "nbformat_minor": 5
}
