{
 "cells": [
  {
   "cell_type": "markdown",
   "id": "1a947802",
   "metadata": {},
   "source": [
    "[![Open In Colab](https://colab.research.google.com/assets/colab-badge.svg)](https://colab.research.google.com/github/gdsaxton/GDAN5400/blob/main/Week%201%20Notebooks/GDAN%205400%20-%20Week%201%20Class%20Notebook.ipynb)"
   ]
  },
  {
   "cell_type": "markdown",
   "id": "f5963b8f",
   "metadata": {},
   "source": [
    "# Introduction to Python Programming\n",
    "### Welcome to Python Programming Basics!\n",
    "\n",
    "In this notebook, we'll learn the fundamentals of Python programming and how to use Google Colab effectively.\n"
   ]
  },
  {
   "cell_type": "markdown",
   "id": "a10d60b8",
   "metadata": {},
   "source": [
    "### Signing In and Connecting with Colab\n",
    "For instructions on how to log into Colab, save a copy in Google Drive, and share your notebook, etc., see the [Week 1 Pre-Class Notebook](https://colab.research.google.com/github/gdsaxton/GDAN5400/blob/main/Week%201%20Notebooks/GDAN%205400%20-%20Week%201%20Pre-Class%20Notebook.ipynb)"
   ]
  },
  {
   "cell_type": "markdown",
   "id": "264e96d5",
   "metadata": {},
   "source": [
    "<h1>Google Colaboratory!</h1>\n",
    "\n",
    "Colaboratory is built on top of [Jupyter Notebook](https://jupyter.org/). \n",
    "\n",
    "Colaboratory is a free Jupyter notebook environment that requires no setup and runs entirely in the cloud.\n",
    "\n",
    "With Colaboratory you can write and execute code, save and share your analyses, and access powerful computing resources, all for free from your browser."
   ]
  },
  {
   "cell_type": "markdown",
   "id": "a2f2593f",
   "metadata": {},
   "source": [
    "# Essential Colab Features\n",
    "* Interactive Python coding\n",
    "* Code cells: Where you write and run Python code (press `Shift + Enter` to run)\n",
    "* Text cells: Where you write notes and explanations (like this one!)\n",
    "* Built-in code completion\n",
    "* Free access to GPU resources\n",
    "* Easy sharing and collaboration\n",
    "* Integration with Google Drive for saving and loading files."
   ]
  },
  {
   "cell_type": "markdown",
   "id": "41c95222",
   "metadata": {},
   "source": [
    "# Cells\n",
    "A notebook is a list of cells. Cells contain either explanatory text or executable code and its output. Click a cell to select it."
   ]
  },
  {
   "cell_type": "markdown",
   "id": "a6e5217f",
   "metadata": {},
   "source": [
    "### Code cells\n",
    "Below is a **code cell** with a short Python script that computes a value, stores it in a variable, and prints the result. Once the toolbar button indicates CONNECTED, click in the cell to select it and execute the contents in the following ways:\n",
    "\n",
    "* Click the **Play icon** in the left gutter of the cell;\n",
    "* Type **Cmd/Ctrl+Enter** to run the cell in place;\n",
    "* Type **Shift+Enter** to run the cell and move focus to the next cell (adding one if none exists); or\n",
    "* Type **Option/Alt+Enter** to run the cell and insert a new code cell immediately below it.\n",
    "\n",
    "There are additional options for running some or all cells in the **Runtime** menu.\n"
   ]
  },
  {
   "cell_type": "markdown",
   "id": "331af034",
   "metadata": {},
   "source": [
    "Let's start coding! Run the following cell to make the typical \"Hello world\" statement."
   ]
  },
  {
   "cell_type": "code",
   "execution_count": null,
   "id": "d3289a10",
   "metadata": {},
   "outputs": [],
   "source": [
    "#Use print command \n",
    "print(\"Hello world!\")"
   ]
  },
  {
   "cell_type": "markdown",
   "id": "b174f5ec",
   "metadata": {},
   "source": [
    "The first line above is a comment. In Python, comments begin with the # symbol and are not executed. Text cells can also be used for comments. "
   ]
  },
  {
   "cell_type": "markdown",
   "id": "55d86e59",
   "metadata": {},
   "source": [
    "## Text cells\n",
    "This is a **text cell**. You can **double-click** to edit this cell. Text cells\n",
    "use markdown syntax. To learn more, see the [Colab Guide to Markdown](https://colab.research.google.com/notebooks/markdown_guide.ipynb)\n",
    "\n",
    "You can also add math to text cells using [LaTeX](http://www.latex-project.org/)\n",
    "to be rendered by [MathJax](https://www.mathjax.org). Just place the statement\n",
    "within a pair of **\\$** signs. For example `$\\sqrt{3x-1}+(1+x)^2$` becomes\n",
    "$\\sqrt{3x-1}+(1+x)^2.$\n"
   ]
  },
  {
   "cell_type": "markdown",
   "id": "f04187da",
   "metadata": {},
   "source": [
    "## Adding and moving cells\n",
    "You can add new cells by using the **+ CODE** and **+ TEXT** buttons that show when you hover between cells. These buttons are also in the toolbar above the notebook where they can be used to add a cell below the currently selected cell.\n",
    "\n",
    "You can move a cell by selecting it and clicking **Cell Up** or **Cell Down** in the top toolbar. \n",
    "\n",
    "Consecutive cells can be selected by \"lasso selection\" by dragging from outside one cell and through the group.  Non-adjacent cells can be selected concurrently by clicking one and then holding down Ctrl while clicking another.  Similarly, using Shift instead of Ctrl will select all intermediate cells."
   ]
  },
  {
   "cell_type": "markdown",
   "id": "04efe2c4",
   "metadata": {},
   "source": [
    "# Coding with Python"
   ]
  },
  {
   "cell_type": "markdown",
   "id": "407f8c56",
   "metadata": {},
   "source": [
    "To execute the code in the above cell, select it with a click and then either press the play button to the left of the code, or use the keyboard shortcut \"Command/Ctrl+Enter\".\n",
    "\n",
    "All cells modify the same global state, so variables that you define by executing a cell can be used in other cells:"
   ]
  },
  {
   "cell_type": "code",
   "execution_count": null,
   "id": "2befb6c0",
   "metadata": {},
   "outputs": [],
   "source": [
    "seconds_in_a_day = 60*60*24\n",
    "seconds_in_a_day"
   ]
  },
  {
   "cell_type": "code",
   "execution_count": null,
   "id": "5a44fb60",
   "metadata": {},
   "outputs": [],
   "source": [
    "seconds_in_a_week = 7 * seconds_in_a_day\n",
    "seconds_in_a_week"
   ]
  },
  {
   "cell_type": "markdown",
   "id": "0883bb1e",
   "metadata": {},
   "source": [
    "# Python Basics - Operators and Boolean Logic"
   ]
  },
  {
   "cell_type": "markdown",
   "id": "0c732f1e",
   "metadata": {},
   "source": [
    "**[ChatGPT prompt]** `What are operators in Python?`"
   ]
  },
  {
   "cell_type": "markdown",
   "id": "1200f106",
   "metadata": {},
   "source": [
    "### **Arithmetic Operators**\n",
    "For basic math calculations:\n",
    "  - Addition: `+`\n",
    "  - Subtraction: `-`\n",
    "  - Multiplication: `*`\n",
    "  - Division: `/`\n",
    "  - Floor Division: `//`\n",
    "  - Modulus: `%`\n",
    "  - Exponentiation: `**`"
   ]
  },
  {
   "cell_type": "code",
   "execution_count": null,
   "id": "be654c65",
   "metadata": {},
   "outputs": [],
   "source": [
    "# Basic arithmetic\n",
    "print(10 + 5)    # Addition\n",
    "print(10 - 5)    # Subtraction\n",
    "print(10 * 5)    # Multiplication\n",
    "print(10 / 5)    # Division\n",
    "print(10 ** 2)   # Exponentiation\n",
    "print(10 // 3)   # Floor division\n",
    "print(10 % 3)    # Modulo (remainder)\n",
    "\n",
    "# Try these operations yourself!"
   ]
  },
  {
   "cell_type": "markdown",
   "id": "9df4064d",
   "metadata": {},
   "source": [
    "Here are a couple of examples using variables"
   ]
  },
  {
   "cell_type": "code",
   "execution_count": null,
   "id": "b9c8bfff",
   "metadata": {},
   "outputs": [],
   "source": [
    "# Addition (+) for summing expenses\n",
    "office_rent = 1200\n",
    "utilities = 300\n",
    "total_expenses = office_rent + utilities\n",
    "total_expenses"
   ]
  },
  {
   "cell_type": "code",
   "execution_count": null,
   "id": "d9365221",
   "metadata": {},
   "outputs": [],
   "source": [
    "# Multiplication (*) for calculating interest\n",
    "principal = 1000\n",
    "interest_rate = 0.05\n",
    "interest_earned = principal * interest_rate\n",
    "interest_earned"
   ]
  },
  {
   "cell_type": "markdown",
   "id": "2cdad209",
   "metadata": {},
   "source": [
    "### Comparison Operators\n",
    "Comparison operators are symbols used in programming to compare two values or variables. They perform a comparison and always return a Boolean result (`True` or `False`). Think of them like math symbols that ask yes/no questions about numbers or other values.\n",
    "\n",
    "For comparing values:\n",
    "  - Equal to: `==`\n",
    "  - Not equal to: `!=`\n",
    "  - Greater than: `>`\n",
    "  - Less than: `<`\n",
    "  - Greater than or equal to: `>=`\n",
    "  - Less than or equal to: `<=`"
   ]
  },
  {
   "cell_type": "code",
   "execution_count": null,
   "id": "1a5f9e9b",
   "metadata": {},
   "outputs": [],
   "source": [
    "# Comparison operators\n",
    "x = 5\n",
    "y = 10\n",
    "print(x < y)    # Less than\n",
    "print(x > y)    # Greater than\n",
    "print(x == y)   # Equal to\n",
    "print(x != y)   # Not equal to\n",
    "print(x <= y)   # Less than or equal to\n",
    "print(x >= y)   # Greater than or equal to"
   ]
  },
  {
   "cell_type": "markdown",
   "id": "e07b611f",
   "metadata": {},
   "source": [
    "We can combine comparisons"
   ]
  },
  {
   "cell_type": "code",
   "execution_count": null,
   "id": "17ed72ff",
   "metadata": {},
   "outputs": [],
   "source": [
    "x = 10\n",
    "y = 20\n",
    "print(x > 5 and y > 15)"
   ]
  },
  {
   "cell_type": "markdown",
   "id": "8cadff2b",
   "metadata": {},
   "source": [
    "The `print()` command is optional if it is on the last line of a code block."
   ]
  },
  {
   "cell_type": "code",
   "execution_count": null,
   "id": "14462494",
   "metadata": {},
   "outputs": [],
   "source": [
    "x > 5 and y > 15"
   ]
  },
  {
   "cell_type": "markdown",
   "id": "adc7206a",
   "metadata": {},
   "source": [
    "Examples using accounting variables"
   ]
  },
  {
   "cell_type": "code",
   "execution_count": null,
   "id": "3df8bf05",
   "metadata": {},
   "outputs": [],
   "source": [
    "# Greater than (>) for budget analysis\n",
    "actual_expense = 5000\n",
    "budget_limit = 4500\n",
    "over_budget = actual_expense > budget_limit\n",
    "over_budget"
   ]
  },
  {
   "cell_type": "code",
   "execution_count": null,
   "id": "304af88d",
   "metadata": {},
   "outputs": [],
   "source": [
    "# Equal to (==) for bank reconciliation\n",
    "book_balance = 10000\n",
    "bank_balance = 10000\n",
    "accounts_match = book_balance == bank_balance\n",
    "accounts_match"
   ]
  },
  {
   "cell_type": "markdown",
   "id": "922da619",
   "metadata": {},
   "source": [
    "#### Practice Exercise \n",
    "Write a script to calculate and print the area of a rectangle.\n",
    "\n",
    "*Hint*: Here is some starter code (replace \"...\" with code)"
   ]
  },
  {
   "cell_type": "code",
   "execution_count": null,
   "id": "4de529c9",
   "metadata": {},
   "outputs": [],
   "source": [
    "length = 5\n",
    "width = 10\n",
    "area = ...\n",
    "print(f\"The area of the rectangle is:{area}\")"
   ]
  },
  {
   "cell_type": "markdown",
   "id": "cb33a5b9",
   "metadata": {},
   "source": [
    "#### Solution\n",
    "<details>\n",
    "<summary>Click to expand</summary>\n",
    "\n",
    "```python\n",
    "length = 5\n",
    "width = 10\n",
    "area = length * width\n",
    "print(\"The area of the rectangle is:\", area)\n",
    "```\n",
    "  \n",
    "```python    \n",
    "length = float(input(\"Enter the length: \"))\n",
    "width = float(input(\"Enter the width: \"))\n",
    "area = length * width\n",
    "print(f\"The area of the rectangle is {area}\")    \n",
    "```"
   ]
  },
  {
   "cell_type": "markdown",
   "id": "bf38aac4",
   "metadata": {},
   "source": [
    "### Boolean Operations\n",
    "Booleans are `True`/`False` values in Python. Booleans are often used in conditions and loops. "
   ]
  },
  {
   "cell_type": "code",
   "execution_count": null,
   "id": "c5c0ee8a",
   "metadata": {},
   "outputs": [],
   "source": [
    "is_ready = True\n",
    "print(is_ready)"
   ]
  },
  {
   "cell_type": "markdown",
   "id": "23c366ff",
   "metadata": {},
   "source": [
    "A basic accounting example"
   ]
  },
  {
   "cell_type": "code",
   "execution_count": null,
   "id": "04912a49",
   "metadata": {},
   "outputs": [],
   "source": [
    "# AND (and) for payment conditions\n",
    "payment_received = True\n",
    "payment_cleared = False\n",
    "transaction_complete = payment_received and payment_cleared\n",
    "transaction_complete"
   ]
  },
  {
   "cell_type": "markdown",
   "id": "3ec55cdf",
   "metadata": {},
   "source": [
    "The comparison operators covered above also *return* boolean values"
   ]
  },
  {
   "cell_type": "code",
   "execution_count": null,
   "id": "89defa3c",
   "metadata": {},
   "outputs": [],
   "source": [
    "print(5 > 3)\n",
    "print(3 > 5)"
   ]
  },
  {
   "cell_type": "markdown",
   "id": "772f1e01",
   "metadata": {},
   "source": [
    "# For Loops\n",
    "A `for` loop is used to iterate over a sequence (like a list, tuple, or range) or rows of a dataset.\n",
    "\n",
    "### Basic syntax \n",
    "```python\n",
    "for item in sequence:\n",
    "    # Perform some action\n",
    "    print(item)\n",
    "```\n",
    "\n",
    "*Notes*:\n",
    "- You can replace `item` with any word you choose\n",
    "- **Indentation is important!** Spacing is done automatically in Jupyter/Colab"
   ]
  },
  {
   "cell_type": "markdown",
   "id": "18046bb5",
   "metadata": {},
   "source": [
    "**[ChatGPT prompt]** `What is a *for loop* in Python?`"
   ]
  },
  {
   "cell_type": "markdown",
   "id": "833944c2",
   "metadata": {},
   "source": [
    "Iterating Over a String"
   ]
  },
  {
   "cell_type": "code",
   "execution_count": null,
   "id": "6df25fa2",
   "metadata": {},
   "outputs": [],
   "source": [
    "for letter in \"hello\":\n",
    "    print(letter)"
   ]
  },
  {
   "cell_type": "markdown",
   "id": "deea59e6",
   "metadata": {},
   "source": [
    "We can modify items in the loop"
   ]
  },
  {
   "cell_type": "code",
   "execution_count": null,
   "id": "60bea896",
   "metadata": {},
   "outputs": [],
   "source": [
    "for letter in \"hello\":\n",
    "    print(letter+'okay')"
   ]
  },
  {
   "cell_type": "markdown",
   "id": "6d200dd8",
   "metadata": {},
   "source": [
    "Using `range()`  \n",
    "- `range()` generates a sequence of numbers, which is commonly used with for loops."
   ]
  },
  {
   "cell_type": "code",
   "execution_count": null,
   "id": "70cd1527",
   "metadata": {},
   "outputs": [],
   "source": [
    "for i in range(5):  # Numbers 0 through 4\n",
    "    print(i)"
   ]
  },
  {
   "cell_type": "markdown",
   "id": "de4eec77",
   "metadata": {},
   "source": [
    "Calculate the sum of numbers from 1 to 5 including a running total"
   ]
  },
  {
   "cell_type": "code",
   "execution_count": null,
   "id": "6c64e877",
   "metadata": {},
   "outputs": [],
   "source": [
    "total = 0\n",
    "for i in range(1, 6):\n",
    "    print(i)\n",
    "    total += i\n",
    "    print(\"Running total:\", total)\n",
    "print(\"Sum:\", total)"
   ]
  },
  {
   "cell_type": "markdown",
   "id": "ac80390e",
   "metadata": {},
   "source": [
    "Looping through a `list`"
   ]
  },
  {
   "cell_type": "code",
   "execution_count": null,
   "id": "475021d7",
   "metadata": {},
   "outputs": [],
   "source": [
    "fruits = ['apple', 'banana', 'orange']\n",
    "for fruit in fruits:\n",
    "    print(f\"Here is the {fruit}\") #Alternative: print(\"Here is the\", fruit)"
   ]
  },
  {
   "cell_type": "markdown",
   "id": "e3fbda83",
   "metadata": {},
   "source": [
    "#### Some Accounting Examples\n",
    "Calculating Total Revenue Across Multiple Accounts\n",
    "- Use a `for` loop to iterate through a list of revenues and calculate the total."
   ]
  },
  {
   "cell_type": "code",
   "execution_count": null,
   "id": "49b2f630",
   "metadata": {},
   "outputs": [],
   "source": [
    "revenues = [5000, 7000, 8500, 3000]  # Revenue from different accounts\n",
    "total_revenue = 0 #Set starting value\n",
    "\n",
    "for revenue in revenues:\n",
    "    total_revenue += revenue\n",
    "\n",
    "print(\"Total Revenue:\", total_revenue)"
   ]
  },
  {
   "cell_type": "markdown",
   "id": "fa5daedb",
   "metadata": {},
   "source": [
    "Applying a Fixed Depreciation Rate to Multiple Assets\n",
    "- Iterate over a list of asset values to calculate their depreciation."
   ]
  },
  {
   "cell_type": "code",
   "execution_count": null,
   "id": "0fcb902c",
   "metadata": {},
   "outputs": [],
   "source": [
    "asset_values = [10000, 20000, 15000, 30000]  # Asset values\n",
    "depreciation_rate = 0.1  # 10% depreciation rate\n",
    "\n",
    "for asset in asset_values:\n",
    "    depreciation = asset * depreciation_rate\n",
    "    print(f\"Asset Value: {asset}, Depreciation: {depreciation}\")"
   ]
  },
  {
   "cell_type": "markdown",
   "id": "36886e3f",
   "metadata": {},
   "source": [
    "Generating Account Names for a Chart of Accounts\n",
    "- Use a for loop to create account names automatically."
   ]
  },
  {
   "cell_type": "code",
   "execution_count": null,
   "id": "f0192cfe",
   "metadata": {},
   "outputs": [],
   "source": [
    "account_prefix = \"Account_\"\n",
    "for i in range(1, 6):  # Generating accounts from 1 to 5\n",
    "    account_name = f\"{account_prefix}{i}\"\n",
    "    print(account_name)"
   ]
  },
  {
   "cell_type": "markdown",
   "id": "8dcc67a5",
   "metadata": {},
   "source": [
    "Alternative version"
   ]
  },
  {
   "cell_type": "code",
   "execution_count": null,
   "id": "1e08c295",
   "metadata": {},
   "outputs": [],
   "source": [
    "account_prefix = \"Account_\"\n",
    "for i in range(1, 6):  # Generating accounts from 1 to 5\n",
    "    account_name = account_prefix+str(i)\n",
    "    print(account_name)"
   ]
  },
  {
   "cell_type": "markdown",
   "id": "bba8f80b",
   "metadata": {},
   "source": [
    "Similar example"
   ]
  },
  {
   "cell_type": "code",
   "execution_count": null,
   "id": "ded87c4b",
   "metadata": {},
   "outputs": [],
   "source": [
    "for quarter in range(1, 5):\n",
    "    print(f\"Generating Q{quarter} financial report...\")"
   ]
  },
  {
   "cell_type": "markdown",
   "id": "4d887a52",
   "metadata": {},
   "source": [
    "Identifying Transactions Above a Threshold\n",
    "- Iterate through a list of transactions to find those exceeding a given threshold."
   ]
  },
  {
   "cell_type": "code",
   "execution_count": null,
   "id": "6802231b",
   "metadata": {},
   "outputs": [],
   "source": [
    "transactions = [200, 500, 1500, 800, 2500]  # Transaction amounts\n",
    "threshold = 1000  # Threshold value\n",
    "\n",
    "for transaction in transactions:\n",
    "    print(f\"Transaction amount: {transaction}\")\n",
    "    if transaction > threshold:\n",
    "        print(f\"\\tTransaction above threshold: {transaction}\")"
   ]
  },
  {
   "cell_type": "markdown",
   "id": "4346017f",
   "metadata": {},
   "source": [
    "'Nested' `for` loop for department budgets"
   ]
  },
  {
   "cell_type": "code",
   "execution_count": null,
   "id": "44268a2d",
   "metadata": {},
   "outputs": [],
   "source": [
    "departments = ['Sales', 'Marketing']\n",
    "months = ['January', 'February', 'March']\n",
    "for dept in departments:\n",
    "    for month in months:\n",
    "        print(f\"Reviewing {dept} budget for {month}\")"
   ]
  },
  {
   "cell_type": "markdown",
   "id": "c8672838",
   "metadata": {},
   "source": [
    "#### Practice Exercise\n",
    "Create a list of numbers and use a `for` loop to calculate and print out the sum of the numbers  \n",
    "*Hint*: Here is some starter code (replace \"...\" with code)"
   ]
  },
  {
   "cell_type": "code",
   "execution_count": null,
   "id": "3d759e85",
   "metadata": {},
   "outputs": [],
   "source": [
    "# Exercise 1 solution\n",
    "numbers = [1, 2, 3, 4, 5]\n",
    "total = 0 #starting total\n",
    "for ...\n",
    "    total += num #Add 'num' to total \n",
    "print(f\"Sum: {total}\")"
   ]
  },
  {
   "cell_type": "markdown",
   "id": "de634a76",
   "metadata": {},
   "source": [
    "### Solution\n",
    "<details>\n",
    "<summary>Click to expand</summary>\n",
    "\n",
    "```python\n",
    "numbers = [1, 2, 3, 4, 5]\n",
    "total = 0\n",
    "for num in numbers:\n",
    "    total += num\n",
    "print(f\"Sum: {total}\")\n",
    "```"
   ]
  },
  {
   "cell_type": "markdown",
   "id": "3c584090",
   "metadata": {},
   "source": [
    "# If-Else Statements\n",
    "\n",
    "An if-else statement in Python is a conditional control structure that allows you to execute specific blocks of code based on whether a given condition evaluates to True or False. It helps in decision-making within a program.\n",
    "\n",
    "### Basic syntax \n",
    "```python\n",
    "if condition:\n",
    "    # Code to execute if condition is True\n",
    "else:\n",
    "    # Code to execute if condition is False\n",
    "```"
   ]
  },
  {
   "cell_type": "markdown",
   "id": "35dd2a7b",
   "metadata": {},
   "source": [
    "**[ChatGPT prompt]** `What is an *if-else* statement in Python?`"
   ]
  },
  {
   "cell_type": "markdown",
   "id": "cab1371b",
   "metadata": {},
   "source": [
    "Example"
   ]
  },
  {
   "cell_type": "code",
   "execution_count": null,
   "id": "9664aac6",
   "metadata": {},
   "outputs": [],
   "source": [
    "x = 10\n",
    "if x > 5:\n",
    "    print(\"x is greater than 5\")\n",
    "else:\n",
    "    print(\"x is not greater than 5\")"
   ]
  },
  {
   "cell_type": "markdown",
   "id": "c22faedd",
   "metadata": {},
   "source": [
    "### Using `elif` in `if-else` Statements\n",
    "\n",
    "Use `elif` (short for \"else if\") to test for more than two conditions.\n",
    "\n",
    "#### **Structure:**\n",
    "```python\n",
    "if condition1:\n",
    "    # Code block 1\n",
    "elif condition2:\n",
    "    # Code block 2\n",
    "else:\n",
    "    # Code block 3\n",
    "```\n",
    "\n",
    "#### Explanation:\n",
    "1. `if` block:\n",
    "- The first condition is checked.\n",
    "- If it evaluates to True, the associated code block runs.\n",
    "2. `elif` block:\n",
    "- Additional conditions can be specified.\n",
    "- Runs only if the previous conditions were False and this one is True.\n",
    "3. `else` block:\n",
    "- A fallback block that runs if none of the above conditions are True.\n"
   ]
  },
  {
   "cell_type": "code",
   "execution_count": null,
   "id": "0991de18",
   "metadata": {},
   "outputs": [],
   "source": [
    "x = 10\n",
    "if x > 20:\n",
    "    print(\"x is greater than 20\")\n",
    "elif x > 5:\n",
    "    print(\"x is greater than 5 but not greater than 20\")\n",
    "else:\n",
    "    print(\"x is 5 or less\")"
   ]
  },
  {
   "cell_type": "markdown",
   "id": "3bff6d8e",
   "metadata": {},
   "source": [
    "You can combine multiple conditions using logical operators (`and`, `or`, `not`):\n",
    "\n",
    "Here are examples with `and`, `or`, and `not`"
   ]
  },
  {
   "cell_type": "code",
   "execution_count": null,
   "id": "9bfef064",
   "metadata": {},
   "outputs": [],
   "source": [
    "x = 15\n",
    "if x > 10 and x < 20:\n",
    "    print(\"x is between 10 and 20\")\n",
    "else:\n",
    "    print(\"x is not in the range\")"
   ]
  },
  {
   "cell_type": "code",
   "execution_count": null,
   "id": "7d954acf",
   "metadata": {},
   "outputs": [],
   "source": [
    "x = 5\n",
    "if x < 10 or x > 20:\n",
    "    print(\"x is outside the range of 10 to 20\")\n",
    "else:\n",
    "    print(\"x is within the range\")"
   ]
  },
  {
   "cell_type": "code",
   "execution_count": null,
   "id": "47b0e263",
   "metadata": {},
   "outputs": [],
   "source": [
    "logged_in = False\n",
    "if not logged_in:\n",
    "    print(\"Please log in\")\n",
    "else:\n",
    "    print(\"Welcome!\")"
   ]
  },
  {
   "cell_type": "markdown",
   "id": "0420b78c",
   "metadata": {},
   "source": [
    "#### Some Accounting Examples\n",
    "\n",
    "Checking for Overdue Payments\n",
    "- Determine whether a payment is overdue based on the number of days past due."
   ]
  },
  {
   "cell_type": "code",
   "execution_count": null,
   "id": "a72c993e",
   "metadata": {},
   "outputs": [],
   "source": [
    "days_past_due = 45  # Days past the due date\n",
    "\n",
    "if days_past_due > 30:\n",
    "    print(\"The payment is overdue.\")\n",
    "else:\n",
    "    print(\"The payment is on time.\")"
   ]
  },
  {
   "cell_type": "markdown",
   "id": "ea6bd219",
   "metadata": {},
   "source": [
    "Categorizing Account Balances as Positive, Negative, or Zero\n",
    "- Classify an account balance using `if-elif-else`."
   ]
  },
  {
   "cell_type": "code",
   "execution_count": null,
   "id": "e711da88",
   "metadata": {},
   "outputs": [],
   "source": [
    "balance = -200  # Account balance\n",
    "\n",
    "if balance > 0:\n",
    "    print(\"The account has a positive balance.\")\n",
    "elif balance < 0:\n",
    "    print(\"The account is overdrawn.\")\n",
    "else:\n",
    "    print(\"The account has a zero balance.\")"
   ]
  },
  {
   "cell_type": "markdown",
   "id": "f9688c92",
   "metadata": {},
   "source": [
    "Check fiscal year end"
   ]
  },
  {
   "cell_type": "code",
   "execution_count": null,
   "id": "950ed225",
   "metadata": {},
   "outputs": [],
   "source": [
    "month = \"December\"\n",
    "if month == \"December\":\n",
    "    print(\"Close the books for year end\")\n",
    "else:\n",
    "    print(\"Regular monthly closing\")"
   ]
  },
  {
   "cell_type": "markdown",
   "id": "3073b4d5",
   "metadata": {},
   "source": [
    "# Useful Colab Shortcuts\n",
    "\n",
    "### Windows\n",
    "* `Ctrl + Enter`: Run current cell\n",
    "* `Shift + Enter`: Run current cell and move to next cell\n",
    "* `Alt + Enter`: Run current cell and create new cell below\n",
    "* `Ctrl + M B`: Create new cell below\n",
    "* `Ctrl + M A`: Create new cell above\n",
    "* `Ctrl + M D`: Delete current cell\n",
    "* `Ctrl + M M`: Convert cell to markdown\n",
    "* `Ctrl + M H`: Show all shortcuts\n",
    "* `Ctrl + Z`: Undo Last Action\n",
    "\n",
    "### Mac\n",
    "* `Cmd + Enter`: Run current cell\n",
    "* `Shift + Enter`: Run current cell and move to next cell\n",
    "* `Option + Enter`: Run current cell and create new cell below\n",
    "* `Cmd + M B`: Create new cell below\n",
    "* `Cmd + M A`: Create new cell above\n",
    "* `Cmd + M D`: Delete current cell\n",
    "* `Cmd + M M`: Convert cell to markdown\n",
    "* `Cmd + M H`: Show all shortcuts\n",
    "* `Cmd + /`: Comment/uncomment selected lines\n",
    "* `Cmd + ]`: Indent text\n",
    "* `Cmd + [`: Unindent text\n",
    "* `Cmd + F`: Find and replace\n",
    "* `Cmd + S`: Save notebook\n",
    "* `Cmd + Z`: Undo Last Action"
   ]
  },
  {
   "cell_type": "markdown",
   "id": "0927ad45",
   "metadata": {},
   "source": [
    "# Getting Help\n",
    "\n",
    "Python provides several ways to get help when you’re unsure about a function, module, or syntax.\n",
    "\n",
    "### **1. Using the `help()` Function**\n",
    "The `help()` function displays detailed documentation about Python objects, including functions, modules, and classes.\n",
    "\n",
    "#### **Examples:**"
   ]
  },
  {
   "cell_type": "code",
   "execution_count": 1,
   "id": "de584e85",
   "metadata": {},
   "outputs": [
    {
     "name": "stdout",
     "output_type": "stream",
     "text": [
      "Help on built-in function len in module builtins:\n",
      "\n",
      "len(obj, /)\n",
      "    Return the number of items in a container.\n",
      "\n"
     ]
    }
   ],
   "source": [
    "# Using help()\n",
    "help(len)  # Displays documentation for the 'len' function"
   ]
  },
  {
   "cell_type": "code",
   "execution_count": null,
   "id": "84775255",
   "metadata": {},
   "outputs": [],
   "source": [
    "# Using dir() to see available methods\n",
    "dir(list)  # Shows all list methods"
   ]
  },
  {
   "cell_type": "markdown",
   "id": "d32a066a",
   "metadata": {},
   "source": [
    "#### Using ? in Colab\n",
    "Colab allows you to use ? to get quick help on Python objects."
   ]
  },
  {
   "cell_type": "code",
   "execution_count": null,
   "id": "85f9cdce",
   "metadata": {},
   "outputs": [],
   "source": [
    "len? # Displays help for the 'len' function"
   ]
  },
  {
   "cell_type": "code",
   "execution_count": null,
   "id": "032a5b78",
   "metadata": {},
   "outputs": [],
   "source": [
    "range?  # Displays help for the 'range' function"
   ]
  },
  {
   "cell_type": "markdown",
   "id": "26375d3c",
   "metadata": {},
   "source": [
    "#### Searching Online\n",
    "Visit Python’s official documentation: docs.python.org  \n",
    "Search coding issues or questions on Stack Overflow for community support."
   ]
  },
  {
   "cell_type": "markdown",
   "id": "a31e2f2c",
   "metadata": {},
   "source": [
    "#### Reading Error Messages\n",
    "When your code throws an error:\n",
    "\n",
    "Read the error traceback carefully. It often provides clues about what went wrong.\n",
    "\n",
    "Example: A `TypeError` might indicate a mismatch in data types."
   ]
  },
  {
   "cell_type": "markdown",
   "id": "4f1c6c4e",
   "metadata": {},
   "source": [
    "#### Colab-Specific Tips\n",
    "Hover Over: Place your mouse over a function or variable to see additional details in Colab.\n",
    "Table of Contents: Use Colab's Table of Contents panel to navigate through sections of your notebook quickly."
   ]
  },
  {
   "cell_type": "code",
   "execution_count": null,
   "id": "e735600a",
   "metadata": {},
   "outputs": [],
   "source": [
    "# Example Error: TypeError\n",
    "print(\"The sum is: \" + 5)  # This will throw a TypeError because you cannot add a string and an integer"
   ]
  },
  {
   "cell_type": "markdown",
   "id": "778c7231",
   "metadata": {},
   "source": [
    "# Helpful Resources\n",
    "\n",
    "For more information about working with Colaboratory notebooks, see [Overview of Colaboratory](/notebooks/basic_features_overview.ipynb).\n",
    "\n",
    "Learn how to make the most of Python, Jupyter, Colaboratory, and related tools with these resources:\n",
    "\n",
    "### Working with Notebooks in Colaboratory\n",
    "- [Overview of Colaboratory](https://colab.research.google.com/notebooks/basic_features_overview.ipynb)  \n",
    "- [Guide to Markdown](https://colab.research.google.com/notebooks/markdown_guide.ipynb)\n",
    "- [Importing libraries and installing dependencies](https://colab.research.google.com/notebooks/snippets/importing_libraries.ipynb)\n",
    "\n",
    "### Working with Data\n",
    "- [Loading data: Drive, Sheets, and Google Cloud Storage](https://colab.research.google.com/notebooks/io.ipynb)\n",
    "- [Charts: visualizing data](https://colab.research.google.com/notebooks/charts.ipynb)"
   ]
  },
  {
   "cell_type": "markdown",
   "id": "bacfba29",
   "metadata": {},
   "source": [
    "## Open In Colab Badge\n",
    "\n",
    "Anybody can open a copy of any github-hosted notebook within Colab. To make it easier to give people access to live views of GitHub-hosted notebooks,\n",
    "colab provides a [shields.io](http://shields.io/)-style badge, which appears as follows:\n",
    "\n",
    "[![Open In Colab](https://colab.research.google.com/assets/colab-badge.svg)](https://colab.research.google.com/github/gdsaxton/GDAN5400/blob/main/Coding%20Assignment%20%231/GDAN%205400%20%E2%80%93%20Coding%20Assignment%201.ipynb)"
   ]
  },
  {
   "cell_type": "markdown",
   "id": "c9813c6d",
   "metadata": {},
   "source": [
    "# Preview of Week 2: Exploratory Data Analysis & Data Cleaning\n",
    "- Understand how to load and save datasets in different formats\n",
    "- Explore datasets using PANDAS\n",
    "- Data Cleaning and Filtering\n",
    "- Key Elements\n",
    "  - Videos with associated code notebooks\n",
    "  - Assignment #1\n",
    "  - Code and assignments available on GDAN 5400 GitHub repository\n",
    "  - Additional practice: Kaggle tutorials and exercises\n",
    "- Reminders:\n",
    "  - Week 2 is asynchronous\n",
    "  - Assignment 1 is due in two weeks  \n",
    "  - Technical presentation sign-up"
   ]
  },
  {
   "cell_type": "markdown",
   "id": "7a014c27",
   "metadata": {},
   "source": [
    "### Introduction to DataFrames\n",
    "\n",
    "* What is a DataFrame?\n",
    "* The role of PANDAS in data manipulation\n",
    "* Demonstrate basic operations:\n",
    "\n",
    "```python\n",
    "import pandas as pd\n",
    "data = {'Name': ['Alice', 'Bob'], 'Age': [25, 30]}\n",
    "df = pd.DataFrame(data)\n",
    "print(df)\n",
    "```"
   ]
  },
  {
   "cell_type": "code",
   "execution_count": null,
   "id": "bcc04b69",
   "metadata": {},
   "outputs": [],
   "source": [
    "import pandas as pd\n",
    "data = {'Name': ['Alice', 'Bob'], 'Age': [25, 30]}\n",
    "df = pd.DataFrame(data)\n",
    "df"
   ]
  },
  {
   "cell_type": "code",
   "execution_count": null,
   "id": "e7dd2430",
   "metadata": {},
   "outputs": [],
   "source": [
    "pd.DataFrame(data)"
   ]
  },
  {
   "cell_type": "code",
   "execution_count": null,
   "id": "1761794d",
   "metadata": {},
   "outputs": [],
   "source": [
    "df.info()"
   ]
  },
  {
   "cell_type": "code",
   "execution_count": null,
   "id": "7b9fd40f",
   "metadata": {},
   "outputs": [],
   "source": [
    "df['Age'] - 5"
   ]
  },
  {
   "cell_type": "code",
   "execution_count": null,
   "id": "0d208998",
   "metadata": {},
   "outputs": [],
   "source": [
    "df"
   ]
  },
  {
   "cell_type": "code",
   "execution_count": null,
   "id": "b3d07b54",
   "metadata": {},
   "outputs": [],
   "source": [
    "df['Age'] = df['Age'] - 5"
   ]
  },
  {
   "cell_type": "code",
   "execution_count": null,
   "id": "c0af8a53",
   "metadata": {},
   "outputs": [],
   "source": [
    "df"
   ]
  }
 ],
 "metadata": {
  "kernelspec": {
   "display_name": "Python 3 (ipykernel)",
   "language": "python",
   "name": "python3"
  },
  "language_info": {
   "codemirror_mode": {
    "name": "ipython",
    "version": 3
   },
   "file_extension": ".py",
   "mimetype": "text/x-python",
   "name": "python",
   "nbconvert_exporter": "python",
   "pygments_lexer": "ipython3",
   "version": "3.9.7"
  }
 },
 "nbformat": 4,
 "nbformat_minor": 5
}
