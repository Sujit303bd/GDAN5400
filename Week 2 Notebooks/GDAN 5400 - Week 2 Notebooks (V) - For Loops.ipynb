{
 "cells": [
  {
   "cell_type": "markdown",
   "id": "1c907206",
   "metadata": {},
   "source": [
    "[![Open In Colab](https://colab.research.google.com/assets/colab-badge.svg)](https://colab.research.google.com/github/gdsaxton/GDAN5400/blob/main/Week%202%20Notebooks/GDAN%205400%20-%20Week%202%20Notebooks%20%28V%29%20-%20For%20Loops.ipynb)"
   ]
  },
  {
   "cell_type": "markdown",
   "id": "a58dcaba",
   "metadata": {},
   "source": [
    "This notebook provides recipes for working with `for` loops in Python"
   ]
  },
  {
   "cell_type": "code",
   "execution_count": null,
   "id": "ce9da7f0",
   "metadata": {},
   "outputs": [],
   "source": [
    "%%time\n",
    "import datetime\n",
    "print (\"Current date and time : \", datetime.datetime.now().strftime(\"%Y-%m-%d %H:%M:%S\"), '\\n')"
   ]
  },
  {
   "cell_type": "markdown",
   "id": "9af03858",
   "metadata": {},
   "source": [
    "# Load Packages and Set Working Directory\n",
    "Import several necessary Python packages. We will be using the <a href=\"http://pandas.pydata.org/\">Python Data Analysis Library,</a> or <i>PANDAS</i>, extensively for our data manipulations in this and future tutorials."
   ]
  },
  {
   "cell_type": "code",
   "execution_count": null,
   "id": "20c2d746",
   "metadata": {},
   "outputs": [],
   "source": [
    "import numpy as np\n",
    "import pandas as pd\n",
    "from pandas import DataFrame\n",
    "from pandas import Series"
   ]
  },
  {
   "cell_type": "markdown",
   "id": "6ab477ac",
   "metadata": {},
   "source": [
    "<br>\n",
    "PANDAS allows you to set various options for, among other things, inspecting the data. I like to be able to see all of the columns. Therefore, I typically include this line at the top of all my notebooks."
   ]
  },
  {
   "cell_type": "code",
   "execution_count": null,
   "id": "bdca7e41",
   "metadata": {},
   "outputs": [],
   "source": [
    "#http://pandas.pydata.org/pandas-docs/stable/options.html\n",
    "pd.set_option('display.max_columns', None)\n",
    "pd.set_option('max_colwidth', 250)\n",
    "pd.set_option('display.max_info_columns', 500)"
   ]
  },
  {
   "cell_type": "markdown",
   "id": "8b452531",
   "metadata": {},
   "source": [
    "# Read in Data"
   ]
  },
  {
   "cell_type": "code",
   "execution_count": null,
   "id": "a8420eeb",
   "metadata": {},
   "outputs": [],
   "source": [
    "import pandas as pd\n",
    "import requests\n",
    "\n",
    "# NOTE: replace `https://github.com/` with `https://raw.githubusercontent.com`\n",
    "# https://github.com/gdsaxton/GDAN5400/blob/main/Coding%20Assignment%201/final_insurance_fraud.xlsx\n",
    "url = 'https://raw.githubusercontent.com/gdsaxton/GDAN5400/main/Coding%20Assignment%201/final_insurance_fraud.xlsx'\n",
    "\n",
    "# Download the file\n",
    "response = requests.get(url)\n",
    "with open('final_insurance_fraud.xlsx', 'wb') as f:\n",
    "    f.write(response.content)\n",
    "\n",
    "# Load the Excel file\n",
    "df = pd.read_excel('final_insurance_fraud.xlsx', engine='openpyxl')\n",
    "\n",
    "df.head()"
   ]
  },
  {
   "cell_type": "markdown",
   "id": "de859d30",
   "metadata": {},
   "source": [
    "# For Loops"
   ]
  },
  {
   "cell_type": "markdown",
   "id": "e8108861",
   "metadata": {},
   "source": [
    "**[ChatGPT prompt]** `What is a *for loop* in Python?`"
   ]
  },
  {
   "cell_type": "markdown",
   "id": "21239231",
   "metadata": {},
   "source": [
    "### Basic syntax \n",
    "```python\n",
    "for item in sequence:\n",
    "    # Perform some action\n",
    "    print(item)\n",
    "```"
   ]
  },
  {
   "cell_type": "markdown",
   "id": "df1ebf9d",
   "metadata": {},
   "source": [
    "### Iterating Over a String"
   ]
  },
  {
   "cell_type": "code",
   "execution_count": null,
   "id": "823067a3",
   "metadata": {},
   "outputs": [],
   "source": [
    "for letter in \"hello\":\n",
    "    print(letter)"
   ]
  },
  {
   "cell_type": "markdown",
   "id": "e30f10a5",
   "metadata": {},
   "source": [
    "### Using `range()`\n",
    "`range()` generates a sequence of numbers, which is commonly used with for loops."
   ]
  },
  {
   "cell_type": "code",
   "execution_count": null,
   "id": "4a40ba52",
   "metadata": {},
   "outputs": [],
   "source": [
    "for i in range(5):  # Numbers 0 through 4\n",
    "    print(i)"
   ]
  },
  {
   "cell_type": "markdown",
   "id": "18aabf59",
   "metadata": {},
   "source": [
    "**[ChatGPT prompt]** `What are the most common uses of for loops in PANDAS?`"
   ]
  },
  {
   "cell_type": "markdown",
   "id": "2d4cc8a7",
   "metadata": {},
   "source": [
    "### Iterating Over Rows\n",
    "You can iterate through rows of a DataFrame using `iterrows()`"
   ]
  },
  {
   "cell_type": "code",
   "execution_count": null,
   "id": "f2192d89",
   "metadata": {},
   "outputs": [],
   "source": [
    "df[:1]"
   ]
  },
  {
   "cell_type": "code",
   "execution_count": null,
   "id": "27736676",
   "metadata": {},
   "outputs": [],
   "source": [
    "for index, row in df[:5].iterrows():\n",
    "    print(f\"Row {index}: Age of roof = {row['Age of roof']}\")"
   ]
  },
  {
   "cell_type": "markdown",
   "id": "11b8281a",
   "metadata": {},
   "source": [
    "### Iterating Over Columns\n",
    "Example: Iterating Over Column Names"
   ]
  },
  {
   "cell_type": "code",
   "execution_count": null,
   "id": "c52d5859",
   "metadata": {},
   "outputs": [],
   "source": [
    "for col in df.columns:\n",
    "    print(f\"Column: {col}\")"
   ]
  },
  {
   "cell_type": "markdown",
   "id": "f041191a",
   "metadata": {},
   "source": [
    "Example: Iterating Over Column Values"
   ]
  },
  {
   "cell_type": "code",
   "execution_count": null,
   "id": "e1b45b11",
   "metadata": {},
   "outputs": [],
   "source": [
    "for index, row in df[:5].iterrows():\n",
    "    print(f\"{row['Occupation']}\")"
   ]
  },
  {
   "cell_type": "markdown",
   "id": "dc804953",
   "metadata": {},
   "source": [
    "### Applying Conditional Logic to Rows\n",
    "Use a for loop to apply custom logic row-by-row."
   ]
  },
  {
   "cell_type": "code",
   "execution_count": null,
   "id": "25b7e8c1",
   "metadata": {},
   "outputs": [],
   "source": [
    "for index, row in df[:5].iterrows():\n",
    "    if row['Occupation'] =='Civil Engineer':\n",
    "        print(f\"{row['Occupation']} Civil Engineer\")\n",
    "    else:\n",
    "        print(\"Not an engineer\")"
   ]
  }
 ],
 "metadata": {
  "kernelspec": {
   "display_name": "Python 3 (ipykernel)",
   "language": "python",
   "name": "python3"
  },
  "language_info": {
   "codemirror_mode": {
    "name": "ipython",
    "version": 3
   },
   "file_extension": ".py",
   "mimetype": "text/x-python",
   "name": "python",
   "nbconvert_exporter": "python",
   "pygments_lexer": "ipython3",
   "version": "3.9.7"
  }
 },
 "nbformat": 4,
 "nbformat_minor": 5
}
