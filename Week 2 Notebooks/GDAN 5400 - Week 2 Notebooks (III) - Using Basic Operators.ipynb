{
 "cells": [
  {
   "cell_type": "markdown",
   "id": "1c907206",
   "metadata": {},
   "source": [
    "[![Open In Colab](https://colab.research.google.com/assets/colab-badge.svg)](https://colab.research.google.com/github/gdsaxton/GDAN5400/blob/main/Week%202%20Notebooks/GDAN%205400%20-%20Week%202%20Notebooks%20%28III%29%20-%20Using%20Basic%20Operators.ipynb)"
   ]
  },
  {
   "cell_type": "markdown",
   "id": "a58dcaba",
   "metadata": {},
   "source": [
    "This notebook provides recipes for using basic arithmetic and comparison operators in Python "
   ]
  },
  {
   "cell_type": "code",
   "execution_count": null,
   "id": "ce9da7f0",
   "metadata": {},
   "outputs": [],
   "source": [
    "%%time\n",
    "import datetime\n",
    "print (\"Current date and time : \", datetime.datetime.now().strftime(\"%Y-%m-%d %H:%M:%S\"), '\\n')"
   ]
  },
  {
   "cell_type": "markdown",
   "id": "9af03858",
   "metadata": {},
   "source": [
    "# Load Packages and Set Working Directory\n",
    "Import several necessary Python packages. We will be using the <a href=\"http://pandas.pydata.org/\">Python Data Analysis Library,</a> or <i>PANDAS</i>, extensively for our data manipulations in this and future tutorials."
   ]
  },
  {
   "cell_type": "code",
   "execution_count": null,
   "id": "20c2d746",
   "metadata": {},
   "outputs": [],
   "source": [
    "import numpy as np\n",
    "import pandas as pd\n",
    "from pandas import DataFrame\n",
    "from pandas import Series"
   ]
  },
  {
   "cell_type": "markdown",
   "id": "6ab477ac",
   "metadata": {},
   "source": [
    "<br>\n",
    "PANDAS allows you to set various options for, among other things, inspecting the data. I like to be able to see all of the columns. Therefore, I typically include this line at the top of all my notebooks."
   ]
  },
  {
   "cell_type": "code",
   "execution_count": null,
   "id": "bdca7e41",
   "metadata": {},
   "outputs": [],
   "source": [
    "#http://pandas.pydata.org/pandas-docs/stable/options.html\n",
    "pd.set_option('display.max_columns', None)\n",
    "pd.set_option('max_colwidth', 250)\n",
    "pd.set_option('display.max_info_columns', 500)"
   ]
  },
  {
   "cell_type": "markdown",
   "id": "8b452531",
   "metadata": {},
   "source": [
    "# Read in Data"
   ]
  },
  {
   "cell_type": "code",
   "execution_count": null,
   "id": "55a6165c",
   "metadata": {},
   "outputs": [],
   "source": [
    "import pandas as pd\n",
    "import requests\n",
    "\n",
    "# NOTE: replace `https://github.com/` with `https://raw.githubusercontent.com`\n",
    "# https://github.com/gdsaxton/GDAN5400/blob/main/Coding%20Assignment%201/final_insurance_fraud.xlsx\n",
    "url = 'https://raw.githubusercontent.com/gdsaxton/GDAN5400/main/Coding%20Assignment%201/final_insurance_fraud.xlsx'\n",
    "\n",
    "# Download the file\n",
    "response = requests.get(url)\n",
    "with open('final_insurance_fraud.xlsx', 'wb') as f:\n",
    "    f.write(response.content)\n",
    "\n",
    "# Load the Excel file\n",
    "df = pd.read_excel('final_insurance_fraud.xlsx', engine='openpyxl')\n",
    "\n",
    "df.head()"
   ]
  },
  {
   "cell_type": "markdown",
   "id": "a98e18fa",
   "metadata": {},
   "source": [
    "# Examples of Operators Using Hail Damage Data\n",
    "## Arithmetic Operators:\n",
    "  - Addition: `+`\n",
    "  - Subtraction: `-`\n",
    "  - Multiplication: `*`\n",
    "  - Division: `/`\n",
    "  - Floor Division: `//`\n",
    "  - Modulus: `%`\n",
    "  - Exponentiation: `**`\n",
    "  \n",
    "Example:\n",
    "```python\n",
    "num = 2\n",
    "if num > 0 and num % 2 == 0:\n",
    "    print(\"Positive and even\")\n",
    "```"
   ]
  },
  {
   "cell_type": "markdown",
   "id": "b9a0902e",
   "metadata": {},
   "source": [
    "### Tasks\n",
    "- Calculate the average `Estimated cost to repair`.\n",
    "- Multiply this average by 1.2 to simulate a 20% increase due to inflation and print the result.\n",
    "- Multiply the `Rainfall` column by 2 and print the result for the first 5 rows."
   ]
  },
  {
   "cell_type": "code",
   "execution_count": null,
   "id": "cd71a2fb",
   "metadata": {},
   "outputs": [],
   "source": [
    "df['Estimated cost to repair'].mean()"
   ]
  },
  {
   "cell_type": "code",
   "execution_count": null,
   "id": "d6a3d67f",
   "metadata": {},
   "outputs": [],
   "source": [
    "# Calculate the average estimated cost to repair\n",
    "average_repair_cost = df['Estimated cost to repair'].mean()\n",
    "print(f\"Average Repair Cost: {average_repair_cost}\")"
   ]
  },
  {
   "cell_type": "code",
   "execution_count": null,
   "id": "1369885e",
   "metadata": {},
   "outputs": [],
   "source": [
    "df['Estimated cost to repair'].mean() * 1.2"
   ]
  },
  {
   "cell_type": "code",
   "execution_count": null,
   "id": "4a2a89d4",
   "metadata": {},
   "outputs": [],
   "source": [
    "# Simulate a 20% increase\n",
    "increased_cost = average_repair_cost * 1.2\n",
    "print(f\"Adjusted Repair Cost (20% Increase): {increased_cost}\")"
   ]
  },
  {
   "cell_type": "code",
   "execution_count": null,
   "id": "75170729",
   "metadata": {},
   "outputs": [],
   "source": [
    "# Multiply Rainfall by 2 and print the result\n",
    "print(\"\\nRainfall * 2 for the first 5 rows:\\n\")\n",
    "print(df['Rainfall'].head() * 2)"
   ]
  },
  {
   "cell_type": "markdown",
   "id": "4e615412",
   "metadata": {},
   "source": [
    "## **Comparison Operators**:\n",
    "### Comparison Operators\n",
    "  - Equal to: `==`\n",
    "  - Not equal to: `!=`\n",
    "  - Greater than: `>`\n",
    "  - Less than: `<`\n",
    "  - Greater than or equal to: `>=`\n",
    "  - Less than or equal to: `<=`\n",
    "  \n",
    "Example:\n",
    "```python\n",
    "num = 2\n",
    "if num > 0:\n",
    "    print(\"Positive\")\n",
    "```"
   ]
  },
  {
   "cell_type": "markdown",
   "id": "e47b1816",
   "metadata": {},
   "source": [
    "### Tasks\n",
    "- Check if the `Estimated cost to repair` is greater than the `Estimated cost to replace` for each of the first 10 rows and print the result (True/False)."
   ]
  },
  {
   "cell_type": "code",
   "execution_count": null,
   "id": "4ba8dc92",
   "metadata": {},
   "outputs": [],
   "source": [
    "# Check if Estimated cost to repair > Estimated cost to replace\n",
    "print(\"\\nIs Estimated cost to repair > Estimated cost to replace?\")\n",
    "print(df['Estimated cost to repair'][:10] > df['Estimated cost to replace'][:10])"
   ]
  },
  {
   "cell_type": "markdown",
   "id": "e9b90fb8",
   "metadata": {},
   "source": [
    "## **Booleans**\n",
    "- **What are Booleans?**\n",
    "  - `True` and `False` are the two boolean values in Python.\n",
    "  - Booleans are often used in conditions and loops.\n",
    "\n",
    "- **Examples**:\n",
    "```python\n",
    "  is_ready = True\n",
    "  print(is_ready)  # Output: True\n",
    "  print(5 > 3)     # Output: True\n",
    "  print(3 > 5)     # Output: False\n",
    "```"
   ]
  },
  {
   "cell_type": "markdown",
   "id": "7c2c9ba4",
   "metadata": {},
   "source": [
    "### Tasks\n",
    "- Count how many claims have `Wind Speed` greater than or equal to 50 and print the result.  \n",
    "- Check if `Hail Diameter` is greater than 1.1 for each of the first 10 rows and print the result (True/False)."
   ]
  },
  {
   "cell_type": "code",
   "execution_count": null,
   "id": "3ba253e9",
   "metadata": {},
   "outputs": [],
   "source": [
    "# Count rows where Wind Speed >= 50\n",
    "high_wind_count = sum(df['Wind Speed'] >= 50)\n",
    "print(f\"Number of claims with Wind Speed >= 50 mph: {high_wind_count}\")"
   ]
  },
  {
   "cell_type": "code",
   "execution_count": null,
   "id": "d4e3257b",
   "metadata": {},
   "outputs": [],
   "source": [
    "# Check if Hail Diameter > 1.1 and print the result\n",
    "print(\"\\nIs Hail Diameter > 1.1?\")\n",
    "print(df['Hail Diameter'][:10] > 1.1)"
   ]
  },
  {
   "cell_type": "code",
   "execution_count": null,
   "id": "35162c52",
   "metadata": {},
   "outputs": [],
   "source": [
    "sum(df['Hail Diameter'][:10]>1.1)"
   ]
  }
 ],
 "metadata": {
  "kernelspec": {
   "display_name": "Python 3 (ipykernel)",
   "language": "python",
   "name": "python3"
  },
  "language_info": {
   "codemirror_mode": {
    "name": "ipython",
    "version": 3
   },
   "file_extension": ".py",
   "mimetype": "text/x-python",
   "name": "python",
   "nbconvert_exporter": "python",
   "pygments_lexer": "ipython3",
   "version": "3.9.7"
  }
 },
 "nbformat": 4,
 "nbformat_minor": 5
}
