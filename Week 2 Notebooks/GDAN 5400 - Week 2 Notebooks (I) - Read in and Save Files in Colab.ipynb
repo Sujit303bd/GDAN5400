{
 "cells": [
  {
   "cell_type": "markdown",
   "id": "a6fa890d",
   "metadata": {},
   "source": [
    "[![Open In Colab](https://colab.research.google.com/assets/colab-badge.svg)](https://colab.research.google.com/github/gdsaxton/GDAN5400/blob/main/Week%202%20Notebooks/GDAN%205400%20-%20Week%202%20Notebooks%20%28I%29%20-%20Read%20in%20and%20Save%20Files%20in%20Colab.ipynb)"
   ]
  },
  {
   "cell_type": "markdown",
   "id": "0f30f79a",
   "metadata": {},
   "source": [
    "This notebook provides recipes for loading and saving data from external sources in Colab."
   ]
  },
  {
   "cell_type": "markdown",
   "id": "46cc0c90",
   "metadata": {},
   "source": [
    "### Option 1: Uploading files from your local file system\n",
    "\n",
    "`files.upload` returns a dictionary of the files which were uploaded.\n",
    "The dictionary is keyed by the file name and values are the data which were uploaded.\n",
    "\n",
    "```python\n",
    "#Run this code to upload the file:\n",
    "from google.colab import files\n",
    "uploaded = files.upload()  # This will prompt you to upload the file\n",
    "```\n",
    "\n",
    "```python\n",
    "for fn in uploaded.keys():\n",
    "  print('User uploaded file \"{name}\" with length {length} bytes'.format(\n",
    "      name=fn, length=len(uploaded[fn])))\n",
    "```"
   ]
  },
  {
   "cell_type": "code",
   "execution_count": null,
   "id": "343a896e",
   "metadata": {},
   "outputs": [],
   "source": [
    "#Run this code to upload the file:\n",
    "from google.colab import files\n",
    "uploaded = files.upload()  # This will prompt you to upload the file"
   ]
  },
  {
   "cell_type": "code",
   "execution_count": null,
   "id": "b26a6942",
   "metadata": {},
   "outputs": [],
   "source": [
    "#Once uploaded, you can open the file using pandas:\n",
    "import pandas as pd\n",
    "df = pd.read_excel('final_insurance_fraud.xlsx')\n",
    "df.head()"
   ]
  },
  {
   "cell_type": "markdown",
   "id": "fd60fbe7",
   "metadata": {},
   "source": [
    "### Option 2: Mount Google Drive Locally\n",
    "\n",
    "The example below shows how to mount your Google Drive on your runtime using an authorization code, and how to write and read files there. Once executed, you will be able to see the new file (`foo.txt`) at [https://drive.google.com/](https://drive.google.com/).\n",
    "\n",
    "This only supports reading, writing, and moving files; to programmatically modify sharing settings or other metadata, use one of the other options below.\n",
    "\n",
    "**Note:** When using the 'Mount Drive' button in the file browser, no authentication codes are necessary for notebooks that have only been edited by the current user.\n",
    "\n",
    "To access an Excel file stored in your Google Drive:\n",
    "\n",
    "```python\n",
    "from google.colab import drive\n",
    "drive.mount('/content/drive')\n",
    "```\n",
    "\n",
    "Access the file:\n",
    "\n",
    "```python\n",
    "import pandas as pd\n",
    "file_path = '/content/drive/My Drive/your_file.xlsx'\n",
    "df = pd.read_excel(file_path)\n",
    "```"
   ]
  },
  {
   "cell_type": "code",
   "execution_count": null,
   "id": "063b6d30",
   "metadata": {},
   "outputs": [],
   "source": [
    "from google.colab import drive\n",
    "drive.mount('/content/drive')"
   ]
  },
  {
   "cell_type": "code",
   "execution_count": null,
   "id": "ec2046e5",
   "metadata": {},
   "outputs": [],
   "source": [
    "import pandas as pd\n",
    "file_path = '/content/drive/My Drive/final_insurance_fraud.xlsx'\n",
    "df = pd.read_excel(file_path)\n",
    "df.head()"
   ]
  },
  {
   "cell_type": "markdown",
   "id": "aa6d2afa",
   "metadata": {},
   "source": [
    "All changes made in this colab session should now be visible in Drive."
   ]
  },
  {
   "cell_type": "markdown",
   "id": "e8875f47",
   "metadata": {},
   "source": [
    "### Option 3: Download from an Online URL\n",
    "If the Excel file is hosted online:  \n",
    "1. Use `requests` to fetch the file\n",
    "\n",
    "```python\n",
    "import pandas as pd\n",
    "import requests\n",
    "\n",
    "url = 'http://example.com/your_file.xlsx'\n",
    "response = requests.get(url)\n",
    "with open('temp_file.xlsx', 'wb') as f:\n",
    "    f.write(response.content)\n",
    "\n",
    "df = pd.read_excel('temp_file.xlsx')\n",
    "```"
   ]
  },
  {
   "cell_type": "code",
   "execution_count": null,
   "id": "05525a2f",
   "metadata": {},
   "outputs": [],
   "source": [
    "import pandas as pd\n",
    "import requests\n",
    "\n",
    "# NOTE: replace `https://github.com/` with `https://raw.githubusercontent.com`\n",
    "# https://github.com/gdsaxton/GDAN5400/blob/main/Coding%20Assignment%201/final_insurance_fraud.xlsx\n",
    "url = 'https://raw.githubusercontent.com/gdsaxton/GDAN5400/main/Coding%20Assignment%201/final_insurance_fraud.xlsx'\n",
    "\n",
    "# Download the file\n",
    "response = requests.get(url)\n",
    "with open('final_insurance_fraud.xlsx', 'wb') as f:\n",
    "    f.write(response.content)\n",
    "\n",
    "# Load the Excel file\n",
    "df = pd.read_excel('final_insurance_fraud.xlsx', engine='openpyxl')\n",
    "\n",
    "df.head()"
   ]
  },
  {
   "cell_type": "markdown",
   "id": "3958de33",
   "metadata": {},
   "source": [
    "# Saving Files\n",
    "   - [This would be the ``Output`` tool in Alteryx]"
   ]
  },
  {
   "cell_type": "markdown",
   "id": "683282ec",
   "metadata": {},
   "source": [
    "### Option 1: Save to Your Google Drive"
   ]
  },
  {
   "cell_type": "code",
   "execution_count": null,
   "id": "cd0f78ba",
   "metadata": {},
   "outputs": [],
   "source": [
    "# Mount your Google Drive (should be already mounted above)\n",
    "from google.colab import drive\n",
    "drive.mount('/content/drive')"
   ]
  },
  {
   "cell_type": "code",
   "execution_count": null,
   "id": "9053493d",
   "metadata": {},
   "outputs": [],
   "source": [
    "# Path to save the file in Google Drive\n",
    "file_path = '/content/drive/My Drive/final_insurance_fraud.pkl'\n",
    "\n",
    "# Save the DataFrame as a pickled file (native PANDAS format)\n",
    "df.to_pickle(file_path)\n",
    "\n",
    "print(f\"File saved to {file_path}\")"
   ]
  },
  {
   "cell_type": "markdown",
   "id": "0ce493b7",
   "metadata": {},
   "source": [
    "### Option 2: Save and Download the File to Your Computer\n",
    "1. Save the DataFrame as a pickled file.  \n",
    "Use pandas to save the DataFrame to a PKL file in the Colab environment:"
   ]
  },
  {
   "cell_type": "code",
   "execution_count": null,
   "id": "d4784b4d",
   "metadata": {},
   "outputs": [],
   "source": [
    "df.to_pickle('final_insurance_fraud.pkl')"
   ]
  },
  {
   "cell_type": "markdown",
   "id": "a87d1101",
   "metadata": {},
   "source": [
    "2. Download the File to Your Computer.   \n",
    "After saving the file, use the following code to download it:"
   ]
  },
  {
   "cell_type": "code",
   "execution_count": null,
   "id": "8d00306d",
   "metadata": {},
   "outputs": [],
   "source": [
    "from google.colab import files\n",
    "\n",
    "# Download the file\n",
    "files.download('final_insurance_fraud.pkl')"
   ]
  }
 ],
 "metadata": {
  "kernelspec": {
   "display_name": "Python 3 (ipykernel)",
   "language": "python",
   "name": "python3"
  },
  "language_info": {
   "codemirror_mode": {
    "name": "ipython",
    "version": 3
   },
   "file_extension": ".py",
   "mimetype": "text/x-python",
   "name": "python",
   "nbconvert_exporter": "python",
   "pygments_lexer": "ipython3",
   "version": "3.9.7"
  }
 },
 "nbformat": 4,
 "nbformat_minor": 5
}
