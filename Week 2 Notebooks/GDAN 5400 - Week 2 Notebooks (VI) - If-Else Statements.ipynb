{
 "cells": [
  {
   "cell_type": "markdown",
   "id": "1c907206",
   "metadata": {},
   "source": [
    "[![Open In Colab](https://colab.research.google.com/assets/colab-badge.svg)](https://colab.research.google.com/github/gdsaxton/GDAN5400/blob/main/Week%202%20Notebooks/GDAN%205400%20-%20Week%202%20Notebooks%20%28VI%29%20-%20If-Else%20Statements.ipynb)"
   ]
  },
  {
   "cell_type": "markdown",
   "id": "a58dcaba",
   "metadata": {},
   "source": [
    "This notebook provides recipes for using basic arithmetic and comparison operators in Python "
   ]
  },
  {
   "cell_type": "code",
   "execution_count": null,
   "id": "ce9da7f0",
   "metadata": {},
   "outputs": [],
   "source": [
    "%%time\n",
    "import datetime\n",
    "print (\"Current date and time : \", datetime.datetime.now().strftime(\"%Y-%m-%d %H:%M:%S\"), '\\n')"
   ]
  },
  {
   "cell_type": "markdown",
   "id": "9af03858",
   "metadata": {},
   "source": [
    "# Load Packages and Set Working Directory\n",
    "Import several necessary Python packages. We will be using the <a href=\"http://pandas.pydata.org/\">Python Data Analysis Library,</a> or <i>PANDAS</i>, extensively for our data manipulations in this and future tutorials."
   ]
  },
  {
   "cell_type": "code",
   "execution_count": null,
   "id": "20c2d746",
   "metadata": {},
   "outputs": [],
   "source": [
    "import numpy as np\n",
    "import pandas as pd\n",
    "from pandas import DataFrame\n",
    "from pandas import Series"
   ]
  },
  {
   "cell_type": "markdown",
   "id": "6ab477ac",
   "metadata": {},
   "source": [
    "<br>\n",
    "PANDAS allows you to set various options for, among other things, inspecting the data. I like to be able to see all of the columns. Therefore, I typically include this line at the top of all my notebooks."
   ]
  },
  {
   "cell_type": "code",
   "execution_count": null,
   "id": "bdca7e41",
   "metadata": {},
   "outputs": [],
   "source": [
    "#http://pandas.pydata.org/pandas-docs/stable/options.html\n",
    "pd.set_option('display.max_columns', None)\n",
    "pd.set_option('max_colwidth', 250)\n",
    "pd.set_option('display.max_info_columns', 500)"
   ]
  },
  {
   "cell_type": "markdown",
   "id": "8b452531",
   "metadata": {},
   "source": [
    "# Read in Data"
   ]
  },
  {
   "cell_type": "code",
   "execution_count": null,
   "id": "a8420eeb",
   "metadata": {},
   "outputs": [],
   "source": [
    "import pandas as pd\n",
    "import requests\n",
    "\n",
    "# NOTE: replace `https://github.com/` with `https://raw.githubusercontent.com`\n",
    "# https://github.com/gdsaxton/GDAN5400/blob/main/Coding%20Assignment%201/final_insurance_fraud.xlsx\n",
    "url = 'https://raw.githubusercontent.com/gdsaxton/GDAN5400/main/Coding%20Assignment%201/final_insurance_fraud.xlsx'\n",
    "\n",
    "# Download the file\n",
    "response = requests.get(url)\n",
    "with open('final_insurance_fraud.xlsx', 'wb') as f:\n",
    "    f.write(response.content)\n",
    "\n",
    "# Load the Excel file\n",
    "df = pd.read_excel('final_insurance_fraud.xlsx', engine='openpyxl')\n",
    "\n",
    "df.head()"
   ]
  },
  {
   "cell_type": "markdown",
   "id": "de859d30",
   "metadata": {},
   "source": [
    "# If-Else Statements"
   ]
  },
  {
   "cell_type": "markdown",
   "id": "e8108861",
   "metadata": {},
   "source": [
    "**[ChatGPT prompt]** `What is an *if-else* statement in Python?`"
   ]
  },
  {
   "cell_type": "markdown",
   "id": "21239231",
   "metadata": {},
   "source": [
    "An if-else statement in Python is a conditional control structure that allows you to execute specific blocks of code based on whether a given condition evaluates to True or False. It helps in decision-making within a program.\n",
    "\n",
    "### Basic syntax \n",
    "```python\n",
    "if condition:\n",
    "    # Code to execute if condition is True\n",
    "else:\n",
    "    # Code to execute if condition is False\n",
    "```"
   ]
  },
  {
   "cell_type": "markdown",
   "id": "e1e9a328",
   "metadata": {},
   "source": [
    "#### Example"
   ]
  },
  {
   "cell_type": "code",
   "execution_count": null,
   "id": "f4dd63e1",
   "metadata": {},
   "outputs": [],
   "source": [
    "x = 10\n",
    "if x > 5:\n",
    "    print(\"x is greater than 5\")\n",
    "else:\n",
    "    print(\"x is not greater than 5\")"
   ]
  },
  {
   "cell_type": "markdown",
   "id": "042e11a1",
   "metadata": {},
   "source": [
    "Use `elif` (short for \"else if\") to test additional conditions."
   ]
  },
  {
   "cell_type": "code",
   "execution_count": null,
   "id": "e023f1de",
   "metadata": {},
   "outputs": [],
   "source": [
    "x = 10\n",
    "if x > 20:\n",
    "    print(\"x is greater than 20\")\n",
    "elif x > 5:\n",
    "    print(\"x is greater than 5 but not greater than 20\")\n",
    "else:\n",
    "    print(\"x is 5 or less\")"
   ]
  },
  {
   "cell_type": "markdown",
   "id": "d8ee113d",
   "metadata": {},
   "source": [
    "`if` statements often use comparison operators:"
   ]
  },
  {
   "cell_type": "code",
   "execution_count": null,
   "id": "b078501e",
   "metadata": {},
   "outputs": [],
   "source": [
    "age = 18\n",
    "if age >= 18:\n",
    "    print(\"You are eligible to vote\")\n",
    "else:\n",
    "    print(\"You are not eligible to vote\")"
   ]
  },
  {
   "cell_type": "markdown",
   "id": "07ea3ace",
   "metadata": {},
   "source": [
    "You can combine multiple conditions using logical operators:\n",
    "- Examples with `and`, `or`, and `not`"
   ]
  },
  {
   "cell_type": "code",
   "execution_count": null,
   "id": "35587d36",
   "metadata": {},
   "outputs": [],
   "source": [
    "x = 15\n",
    "if x > 10 and x < 20:\n",
    "    print(\"x is between 10 and 20\")\n",
    "else:\n",
    "    print(\"x is not in the range\")"
   ]
  },
  {
   "cell_type": "code",
   "execution_count": null,
   "id": "aa39c74b",
   "metadata": {},
   "outputs": [],
   "source": [
    "x = 5\n",
    "if x < 10 or x > 20:\n",
    "    print(\"x is outside the range of 10 to 20\")\n",
    "else:\n",
    "    print(\"x is within the range\")"
   ]
  },
  {
   "cell_type": "code",
   "execution_count": null,
   "id": "cc65543c",
   "metadata": {},
   "outputs": [],
   "source": [
    "logged_in = False\n",
    "if not logged_in:\n",
    "    print(\"Please log in\")\n",
    "else:\n",
    "    print(\"Welcome!\")"
   ]
  },
  {
   "cell_type": "markdown",
   "id": "6ccfd563",
   "metadata": {},
   "source": [
    "### Examples from Hail Damage Dataset"
   ]
  },
  {
   "cell_type": "markdown",
   "id": "7532d2bf",
   "metadata": {},
   "source": [
    "Check Wind Speed in first 5 rows and Print 'High' or 'Low'"
   ]
  },
  {
   "cell_type": "code",
   "execution_count": null,
   "id": "c0ee14b3",
   "metadata": {},
   "outputs": [],
   "source": [
    "for speed in df['Wind Speed'][:5]:\n",
    "    if speed >= 45:\n",
    "        print(\"High\")\n",
    "    else:\n",
    "        print(\"Low\")"
   ]
  },
  {
   "cell_type": "markdown",
   "id": "60812a0f",
   "metadata": {},
   "source": [
    "Print 'Has Rainfall' if Rainfall > 0"
   ]
  },
  {
   "cell_type": "code",
   "execution_count": null,
   "id": "47905532",
   "metadata": {},
   "outputs": [],
   "source": [
    "for rain in df['Rainfall'][:5]:\n",
    "    if rain > 0:\n",
    "        print(\"Has Rainfall\")\n",
    "    else:\n",
    "        print(\"No Rainfall\")"
   ]
  },
  {
   "cell_type": "markdown",
   "id": "33383eb4",
   "metadata": {},
   "source": [
    "Check Adjuster Name and Print a Message"
   ]
  },
  {
   "cell_type": "code",
   "execution_count": null,
   "id": "10b34a0b",
   "metadata": {},
   "outputs": [],
   "source": [
    "for adjuster in df['Adjuster'][358:362]:\n",
    "    if adjuster == 'Dudley':\n",
    "        print(\"Dudley is the adjuster\")\n",
    "    else:\n",
    "        print(\"Different adjuster\")"
   ]
  },
  {
   "cell_type": "markdown",
   "id": "f38e5056",
   "metadata": {},
   "source": [
    "Print 'Cost Provided' or 'Missing Cost' for Repair Estimates"
   ]
  },
  {
   "cell_type": "code",
   "execution_count": null,
   "id": "30057360",
   "metadata": {},
   "outputs": [],
   "source": [
    "for cost in df['Estimated cost to repair'][:10]:\n",
    "    if pd.notnull(cost):\n",
    "        print(\"Cost Provided\")\n",
    "    else:\n",
    "        print(\"Missing Cost\")"
   ]
  },
  {
   "cell_type": "markdown",
   "id": "2a4c8fd5",
   "metadata": {},
   "source": [
    "Print a Custom Message Based on Wind Speed"
   ]
  },
  {
   "cell_type": "code",
   "execution_count": null,
   "id": "5d082f55",
   "metadata": {},
   "outputs": [],
   "source": [
    "for speed in df['Wind Speed'][:5]:\n",
    "    if speed >= 50:\n",
    "        print(\"Severe Wind\")\n",
    "    elif speed >= 30:\n",
    "        print(\"Moderate Wind\")\n",
    "    else:\n",
    "        print(\"Calm Wind\")"
   ]
  },
  {
   "cell_type": "markdown",
   "id": "d40f4b5a",
   "metadata": {},
   "source": [
    "Categorize claims based on rainfall"
   ]
  },
  {
   "cell_type": "code",
   "execution_count": null,
   "id": "0d568813",
   "metadata": {},
   "outputs": [],
   "source": [
    "print(\"Rainfall categorization:\")\n",
    "for rainfall in df['Rainfall'][:5]:\n",
    "    if rainfall > 1.5:\n",
    "        print(\"Heavy Rainfall\")\n",
    "    else:\n",
    "        print(\"Light Rainfall\")"
   ]
  }
 ],
 "metadata": {
  "kernelspec": {
   "display_name": "Python 3 (ipykernel)",
   "language": "python",
   "name": "python3"
  },
  "language_info": {
   "codemirror_mode": {
    "name": "ipython",
    "version": 3
   },
   "file_extension": ".py",
   "mimetype": "text/x-python",
   "name": "python",
   "nbconvert_exporter": "python",
   "pygments_lexer": "ipython3",
   "version": "3.9.7"
  }
 },
 "nbformat": 4,
 "nbformat_minor": 5
}
