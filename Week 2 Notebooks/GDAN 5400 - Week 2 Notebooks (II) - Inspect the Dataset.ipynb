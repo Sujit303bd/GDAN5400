{
 "cells": [
  {
   "cell_type": "markdown",
   "id": "a6fa890d",
   "metadata": {},
   "source": [
    "[![Open In Colab](https://colab.research.google.com/assets/colab-badge.svg)](https://colab.research.google.com/github/gdsaxton/GDAN5400/blob/main/Week%202%20Notebooks/GDAN%205400%20-%20Week%202%20Notebooks%20%28II%29%20-%20Inspect%20the%20Dataset.ipynb)"
   ]
  },
  {
   "cell_type": "markdown",
   "id": "0f30f79a",
   "metadata": {},
   "source": [
    "This notebook provides code for setting up `PANDAS` and doing an initial inspection of a dataset."
   ]
  },
  {
   "cell_type": "code",
   "execution_count": null,
   "id": "ce9da7f0",
   "metadata": {},
   "outputs": [],
   "source": [
    "%%time\n",
    "import datetime\n",
    "print (\"Current date and time : \", datetime.datetime.now().strftime(\"%Y-%m-%d %H:%M:%S\"), '\\n')"
   ]
  },
  {
   "cell_type": "markdown",
   "id": "3e418364",
   "metadata": {},
   "source": [
    "# Load Packages and Set Working Directory\n",
    "Import several necessary Python packages. We will be using the <a href=\"http://pandas.pydata.org/\">Python Data Analysis Library,</a> or <i>PANDAS</i>, extensively for our data manipulations in this and future tutorials."
   ]
  },
  {
   "cell_type": "code",
   "execution_count": null,
   "id": "2b34afac",
   "metadata": {},
   "outputs": [],
   "source": [
    "import numpy as np\n",
    "import pandas as pd\n",
    "from pandas import DataFrame\n",
    "from pandas import Series"
   ]
  },
  {
   "cell_type": "markdown",
   "id": "877e0106",
   "metadata": {},
   "source": [
    "<br>\n",
    "PANDAS allows you to set various options for, among other things, inspecting the data. I like to be able to see all of the columns. Therefore, I typically include this line at the top of all my notebooks."
   ]
  },
  {
   "cell_type": "code",
   "execution_count": null,
   "id": "723f562e",
   "metadata": {},
   "outputs": [],
   "source": [
    "#http://pandas.pydata.org/pandas-docs/stable/options.html\n",
    "pd.set_option('display.max_columns', None)\n",
    "pd.set_option('max_colwidth', 250)\n",
    "pd.set_option('display.max_info_columns', 500)"
   ]
  },
  {
   "cell_type": "markdown",
   "id": "8b452531",
   "metadata": {},
   "source": [
    "# Read in Data"
   ]
  },
  {
   "cell_type": "code",
   "execution_count": null,
   "id": "28f9991b",
   "metadata": {},
   "outputs": [],
   "source": [
    "!wget 'https://github.com/gdsaxton/SNA_Example/blob/main/Co-Author%20University%20Network.csv?raw=true'"
   ]
  },
  {
   "cell_type": "code",
   "execution_count": null,
   "id": "d8b6c8ba",
   "metadata": {},
   "outputs": [],
   "source": [
    "import os\n",
    "os.listdir()"
   ]
  },
  {
   "cell_type": "code",
   "execution_count": null,
   "id": "74661c25",
   "metadata": {},
   "outputs": [],
   "source": [
    "os.rename('Co-Author University Network.csv?raw=true', 'Co-Author University Network.csv')"
   ]
  },
  {
   "cell_type": "code",
   "execution_count": null,
   "id": "b3f64c1e",
   "metadata": {},
   "outputs": [],
   "source": [
    "os.listdir()"
   ]
  },
  {
   "cell_type": "code",
   "execution_count": null,
   "id": "5e0b1c3b",
   "metadata": {},
   "outputs": [],
   "source": [
    "%%time\n",
    "import datetime\n",
    "print (\"Current date and time : \", datetime.datetime.now().strftime(\"%Y-%m-%d %H:%M:%S\"), '\\n')\n",
    "df = pd.read_csv('Co-Author University Network.csv')\n",
    "print('# of columns:', len(df.columns))\n",
    "print('# of observations:', len(df))"
   ]
  },
  {
   "cell_type": "markdown",
   "id": "9c65a4a4",
   "metadata": {},
   "source": [
    "# Inspect the Data\n",
    "\n",
    "- **Basic inspection commands:**\n",
    "  - View the first few rows of the dataset:\n",
    "    ```python\n",
    "    print(df.head())\n",
    "    ```\n",
    "  - Check the structure and data types:\n",
    "    ```python\n",
    "    print(df.info())\n",
    "    ```\n",
    "  - Get a summary of numerical columns:\n",
    "    ```python\n",
    "    print(df.describe())\n",
    "    ```"
   ]
  },
  {
   "cell_type": "markdown",
   "id": "c1b38cb6",
   "metadata": {},
   "source": [
    "`df.head()`"
   ]
  },
  {
   "cell_type": "code",
   "execution_count": null,
   "id": "91eed2ab",
   "metadata": {},
   "outputs": [],
   "source": [
    "df.head?"
   ]
  },
  {
   "cell_type": "code",
   "execution_count": null,
   "id": "50487725",
   "metadata": {},
   "outputs": [],
   "source": [
    "# Inspect the dataset\n",
    "print(\"First 5 rows:\")\n",
    "df.head()"
   ]
  },
  {
   "cell_type": "markdown",
   "id": "0d4c4fbd",
   "metadata": {},
   "source": [
    "`df.columns`"
   ]
  },
  {
   "cell_type": "code",
   "execution_count": null,
   "id": "6cc8fc60",
   "metadata": {},
   "outputs": [],
   "source": [
    "df.columns?"
   ]
  },
  {
   "cell_type": "code",
   "execution_count": null,
   "id": "7e9b6244",
   "metadata": {},
   "outputs": [],
   "source": [
    "help(df.columns)"
   ]
  },
  {
   "cell_type": "code",
   "execution_count": null,
   "id": "440febcc",
   "metadata": {},
   "outputs": [],
   "source": [
    "print(\"Print all column names:\\n\")\n",
    "print(df.columns)"
   ]
  },
  {
   "cell_type": "markdown",
   "id": "f7a6c30e",
   "metadata": {},
   "source": [
    "`df.info()`"
   ]
  },
  {
   "cell_type": "code",
   "execution_count": null,
   "id": "b05a6463",
   "metadata": {},
   "outputs": [],
   "source": [
    "df.info?"
   ]
  },
  {
   "cell_type": "code",
   "execution_count": null,
   "id": "1e4a2160",
   "metadata": {},
   "outputs": [],
   "source": [
    "print(\"Display the structure and data types for all variables.\\n\")\n",
    "df.info()"
   ]
  },
  {
   "cell_type": "markdown",
   "id": "b15e1690",
   "metadata": {},
   "source": [
    "`df.describe`"
   ]
  },
  {
   "cell_type": "code",
   "execution_count": null,
   "id": "f482d03e",
   "metadata": {},
   "outputs": [],
   "source": [
    "df.describe?"
   ]
  },
  {
   "cell_type": "code",
   "execution_count": null,
   "id": "50904951",
   "metadata": {},
   "outputs": [],
   "source": [
    "print(\"Display summary statistics for all numeric columns:\")\n",
    "df.describe().T"
   ]
  },
  {
   "cell_type": "markdown",
   "id": "51a95edc",
   "metadata": {},
   "source": [
    "**[ChatGPT prompt]** `I would like to inspect *df*. How can I do that?`"
   ]
  },
  {
   "cell_type": "code",
   "execution_count": null,
   "id": "37bf2148",
   "metadata": {},
   "outputs": [],
   "source": [
    "df.tail()"
   ]
  },
  {
   "cell_type": "code",
   "execution_count": null,
   "id": "51b55760",
   "metadata": {},
   "outputs": [],
   "source": [
    "df.sample(5)"
   ]
  },
  {
   "cell_type": "code",
   "execution_count": null,
   "id": "8cbf0345",
   "metadata": {},
   "outputs": [],
   "source": [
    "print(f\"Shape of DataFrame: {df.shape}\")"
   ]
  }
 ],
 "metadata": {
  "kernelspec": {
   "display_name": "Python 3 (ipykernel)",
   "language": "python",
   "name": "python3"
  },
  "language_info": {
   "codemirror_mode": {
    "name": "ipython",
    "version": 3
   },
   "file_extension": ".py",
   "mimetype": "text/x-python",
   "name": "python",
   "nbconvert_exporter": "python",
   "pygments_lexer": "ipython3",
   "version": "3.9.7"
  }
 },
 "nbformat": 4,
 "nbformat_minor": 5
}
