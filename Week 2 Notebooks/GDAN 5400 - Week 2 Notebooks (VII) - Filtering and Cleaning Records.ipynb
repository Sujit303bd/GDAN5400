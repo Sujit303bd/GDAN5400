{
 "cells": [
  {
   "cell_type": "markdown",
   "id": "1c907206",
   "metadata": {},
   "source": [
    "[![Open In Colab](https://colab.research.google.com/assets/colab-badge.svg)](https://colab.research.google.com/github/gdsaxton/GDAN5400/blob/main/Week%202%20Notebooks/GDAN%205400%20-%20Week%202%20Notebooks%20%28VII%29%20-%20Filtering%20Records.ipynb)"
   ]
  },
  {
   "cell_type": "markdown",
   "id": "a58dcaba",
   "metadata": {},
   "source": [
    "This notebook provides recipes for filtering and cleaning records in PANDAS"
   ]
  },
  {
   "cell_type": "code",
   "execution_count": null,
   "id": "ce9da7f0",
   "metadata": {},
   "outputs": [],
   "source": [
    "%%time\n",
    "import datetime\n",
    "print (\"Current date and time : \", datetime.datetime.now().strftime(\"%Y-%m-%d %H:%M:%S\"), '\\n')"
   ]
  },
  {
   "cell_type": "markdown",
   "id": "9af03858",
   "metadata": {},
   "source": [
    "# Load Packages and Set Working Directory\n",
    "Import several necessary Python packages. We will be using the <a href=\"http://pandas.pydata.org/\">Python Data Analysis Library,</a> or <i>PANDAS</i>, extensively for our data manipulations in this and future tutorials."
   ]
  },
  {
   "cell_type": "code",
   "execution_count": null,
   "id": "20c2d746",
   "metadata": {},
   "outputs": [],
   "source": [
    "import numpy as np\n",
    "import pandas as pd\n",
    "from pandas import DataFrame\n",
    "from pandas import Series"
   ]
  },
  {
   "cell_type": "markdown",
   "id": "6ab477ac",
   "metadata": {},
   "source": [
    "<br>\n",
    "PANDAS allows you to set various options for, among other things, inspecting the data. I like to be able to see all of the columns. Therefore, I typically include this line at the top of all my notebooks."
   ]
  },
  {
   "cell_type": "code",
   "execution_count": null,
   "id": "bdca7e41",
   "metadata": {},
   "outputs": [],
   "source": [
    "#http://pandas.pydata.org/pandas-docs/stable/options.html\n",
    "pd.set_option('display.max_columns', None)\n",
    "pd.set_option('max_colwidth', 250)\n",
    "pd.set_option('display.max_info_columns', 500)"
   ]
  },
  {
   "cell_type": "markdown",
   "id": "8b452531",
   "metadata": {},
   "source": [
    "# Read in Data"
   ]
  },
  {
   "cell_type": "code",
   "execution_count": null,
   "id": "a8420eeb",
   "metadata": {},
   "outputs": [],
   "source": [
    "import pandas as pd\n",
    "import requests\n",
    "\n",
    "# NOTE: replace `https://github.com/` with `https://raw.githubusercontent.com`\n",
    "# https://github.com/gdsaxton/GDAN5400/blob/main/Coding%20Assignment%201/final_insurance_fraud.xlsx\n",
    "url = 'https://raw.githubusercontent.com/gdsaxton/GDAN5400/main/Coding%20Assignment%201/final_insurance_fraud.xlsx'\n",
    "\n",
    "# Download the file\n",
    "response = requests.get(url)\n",
    "with open('final_insurance_fraud.xlsx', 'wb') as f:\n",
    "    f.write(response.content)\n",
    "\n",
    "# Load the Excel file\n",
    "df = pd.read_excel('final_insurance_fraud.xlsx', engine='openpyxl')\n",
    "\n",
    "df.head()"
   ]
  },
  {
   "cell_type": "markdown",
   "id": "de859d30",
   "metadata": {},
   "source": [
    "# Filtering Records in PANDAS\n",
    "   -  [This would be the ``Filter`` tool in Alteryx]"
   ]
  },
  {
   "cell_type": "markdown",
   "id": "e8108861",
   "metadata": {},
   "source": [
    "**[ChatGPT prompt]** `How do you filter records in PANDAS?`"
   ]
  },
  {
   "cell_type": "markdown",
   "id": "21239231",
   "metadata": {},
   "source": [
    "Filtering records in PANDAS involves selecting rows from a DataFrame that meet specific conditions. Here are common ways to filter records in pandas:"
   ]
  },
  {
   "cell_type": "markdown",
   "id": "8e0ca8fd",
   "metadata": {},
   "source": [
    "### Using Boolean Indexing\n",
    "You can filter rows based on a condition:\n",
    "\n",
    "- Examples: \n",
    "  - Filter (Keep) Rows Where Wind Speed > 50\n",
    "  - Filter (Exclude) Rows Where `Adjuster` is 'Dudley'"
   ]
  },
  {
   "cell_type": "code",
   "execution_count": null,
   "id": "b2c19fff",
   "metadata": {},
   "outputs": [],
   "source": [
    "filtered_df = df[df['Wind Speed'] > 50]\n",
    "print(len(filtered_df))\n",
    "filtered_df[:1]"
   ]
  },
  {
   "cell_type": "code",
   "execution_count": null,
   "id": "1f89855b",
   "metadata": {},
   "outputs": [],
   "source": [
    "filtered_df = df[~(df['Adjuster'] == 'Dudley')]\n",
    "print(len(filtered_df))\n",
    "filtered_df[:1]"
   ]
  },
  {
   "cell_type": "markdown",
   "id": "736bf899",
   "metadata": {},
   "source": [
    "Alternative code"
   ]
  },
  {
   "cell_type": "code",
   "execution_count": null,
   "id": "4ff2566e",
   "metadata": {},
   "outputs": [],
   "source": [
    "filtered_df = df[(df['Adjuster'] != 'Dudley')]\n",
    "print(len(filtered_df))\n",
    "filtered_df[:1]"
   ]
  },
  {
   "cell_type": "markdown",
   "id": "e9999cbe",
   "metadata": {},
   "source": [
    "### Using `.query()`\n",
    "The .query() method allows filtering with an SQL-like syntax.\n",
    "\n",
    "- Examples: \n",
    "  - Filter Rows Where Wind Speed > 50\n",
    "  - Filter Rows Where City == \"Sycamore\" AND Age of roof > 10"
   ]
  },
  {
   "cell_type": "code",
   "execution_count": null,
   "id": "ee657a1a",
   "metadata": {},
   "outputs": [],
   "source": [
    "filtered_df = df.query('`Wind Speed` > 50')\n",
    "print(len(filtered_df))\n",
    "filtered_df[:1]"
   ]
  },
  {
   "cell_type": "code",
   "execution_count": null,
   "id": "d262e1a3",
   "metadata": {},
   "outputs": [],
   "source": [
    "filtered_df = df.query('City == \"Sycamore\" & `Age of roof` > 10')\n",
    "print(len(filtered_df))\n",
    "filtered_df[:1]"
   ]
  },
  {
   "cell_type": "markdown",
   "id": "64f49c7f",
   "metadata": {},
   "source": [
    "### Filtering for Null or Non-Null Values\n",
    "- Example: Filter rows where `Estimated cost to repair` is NOT `NaN` (i.e., not missing)"
   ]
  },
  {
   "cell_type": "code",
   "execution_count": null,
   "id": "20e398f2",
   "metadata": {},
   "outputs": [],
   "source": [
    "filtered_df = df[df['Estimated cost to repair'].notnull()]\n",
    "print(len(filtered_df))\n",
    "filtered_df[:1]"
   ]
  },
  {
   "cell_type": "markdown",
   "id": "12e5b9e1",
   "metadata": {},
   "source": [
    "Note: There are instances where you do *not* want to drop cases missing data. Please refer to the second part of this notebook on \"Data Cleaning\""
   ]
  },
  {
   "cell_type": "markdown",
   "id": "76e0eb18",
   "metadata": {},
   "source": [
    "### Using `.isin()`\n",
    "Filter rows where a column's value is in a list of values.\n",
    "- Example: Filter Rows Where Zip Code is in a Specific List"
   ]
  },
  {
   "cell_type": "code",
   "execution_count": null,
   "id": "a69b92f4",
   "metadata": {},
   "outputs": [],
   "source": [
    "zip_codes = [60178, 10001]\n",
    "filtered_df = df[df['Zip Code'].isin(zip_codes)]\n",
    "print(len(filtered_df))\n",
    "filtered_df[:1]"
   ]
  },
  {
   "cell_type": "markdown",
   "id": "998b44cf",
   "metadata": {},
   "source": [
    "### Using `.str` for String Filtering\n",
    "- Example: Filter Rows Where `Loss or damage` details Contains the Word \"Hail\""
   ]
  },
  {
   "cell_type": "code",
   "execution_count": null,
   "id": "d24ac355",
   "metadata": {},
   "outputs": [],
   "source": [
    "filtered_df = df[df['Loss or damage details'].str.contains('Hail', na=False)]\n",
    "print(len(filtered_df))\n",
    "filtered_df[:1]"
   ]
  },
  {
   "cell_type": "markdown",
   "id": "dbd946e1",
   "metadata": {},
   "source": [
    "### Filter Rows by Index Range\n",
    "Use `.loc[]` for more complex row filtering and column selection.\n",
    "- Example: Filter Rows from Index 0 to 5"
   ]
  },
  {
   "cell_type": "code",
   "execution_count": null,
   "id": "2cf90f4a",
   "metadata": {},
   "outputs": [],
   "source": [
    "filtered_df = df.loc[0:5]\n",
    "print(len(filtered_df))\n",
    "filtered_df"
   ]
  },
  {
   "cell_type": "markdown",
   "id": "7e91b30e",
   "metadata": {},
   "source": [
    "### Using Multiple Conditions\n",
    "Combine conditions using & (AND), | (OR), and ~ (NOT). Enclose each condition in parentheses.\n",
    "\n",
    "- Examples: \n",
    "  - Filter Rows Where `Rainfall` > 1.5 AND `Hail Diameter` > 1.0\n",
    "  - Filter Rows Where Wind Speed > 50 AND City == \"Sycamore\""
   ]
  },
  {
   "cell_type": "code",
   "execution_count": null,
   "id": "73cc1fb7",
   "metadata": {},
   "outputs": [],
   "source": [
    "filtered_df = df[(df['Rainfall'] > 1.5) & (df['Hail Diameter'] > 1.0)]\n",
    "print(len(filtered_df))\n",
    "filtered_df[:1]"
   ]
  },
  {
   "cell_type": "code",
   "execution_count": null,
   "id": "57764f07",
   "metadata": {},
   "outputs": [],
   "source": [
    "filtered_df = df[(df['Wind Speed'] > 50) & (df['City'] == 'Sycamore')]\n",
    "print(len(filtered_df))\n",
    "filtered_df[:1]"
   ]
  },
  {
   "cell_type": "markdown",
   "id": "594f054c",
   "metadata": {},
   "source": [
    "# Data Cleaning"
   ]
  },
  {
   "cell_type": "markdown",
   "id": "aa552db2",
   "metadata": {},
   "source": [
    "In an earlier example, we filtered the dataset to only keep rows where `Estimated cost to repair` is NOT `NaN` (i.e., not missing). In some instances, though, we will not want to drop cases missing data. A key example is when 'missing' actually means '$0.'\n"
   ]
  },
  {
   "cell_type": "markdown",
   "id": "08f5bfac",
   "metadata": {},
   "source": [
    "### Using `fillna()`"
   ]
  },
  {
   "cell_type": "markdown",
   "id": "2e29afbc",
   "metadata": {},
   "source": [
    "**[ChatGPT prompt]** `What is fillna() in pandas?`"
   ]
  },
  {
   "cell_type": "markdown",
   "id": "6b84cb4b",
   "metadata": {},
   "source": [
    "The `fillna()` method in pandas is used to replace missing (`NaN`) values in a DataFrame or Series with a specified value or method.\n",
    "\n",
    "Example: Replace Missing Values with a Constant Value:\n",
    "```python\n",
    "df['Column_Name'] = df['Column_Name'].fillna(0)\n",
    "```\n",
    "\n",
    "Example: Replace Missing Values with a Summary Statistic:\n",
    "```python\n",
    "df['Column_Name'] = df['Column_Name'].fillna(df['Column_Name'].mean())\n",
    "```"
   ]
  },
  {
   "cell_type": "markdown",
   "id": "82381fac",
   "metadata": {},
   "source": [
    "### Using `replace()`\n",
    "The replace() method can replace specific values, including `NaN`.\n",
    "\n",
    "Example:\n",
    "```python\n",
    "df['Column_Name'] = df['Column_Name'].replace(np.nan, 0)\n",
    "```"
   ]
  },
  {
   "cell_type": "code",
   "execution_count": null,
   "id": "83585888",
   "metadata": {},
   "outputs": [],
   "source": [
    "df['Age of roof'].describe()"
   ]
  },
  {
   "cell_type": "code",
   "execution_count": null,
   "id": "2b28bdb9",
   "metadata": {},
   "outputs": [],
   "source": [
    "df['Age of roof'] = df['Age of roof'].replace(35, 34)\n",
    "df['Age of roof'].describe()"
   ]
  }
 ],
 "metadata": {
  "kernelspec": {
   "display_name": "Python 3 (ipykernel)",
   "language": "python",
   "name": "python3"
  },
  "language_info": {
   "codemirror_mode": {
    "name": "ipython",
    "version": 3
   },
   "file_extension": ".py",
   "mimetype": "text/x-python",
   "name": "python",
   "nbconvert_exporter": "python",
   "pygments_lexer": "ipython3",
   "version": "3.9.7"
  }
 },
 "nbformat": 4,
 "nbformat_minor": 5
}
