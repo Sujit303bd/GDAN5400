{
 "cells": [
  {
   "cell_type": "markdown",
   "id": "1c907206",
   "metadata": {},
   "source": [
    "[![Open In Colab](https://colab.research.google.com/assets/colab-badge.svg)](https://colab.research.google.com/github/gdsaxton/GDAN5400/blob/main/Week%202%20Notebooks/GDAN%205400%20-%20Week%202%20Notebooks%20%28IV%29%20-%20Using%20Lists%20and%20Sets.ipynb)"
   ]
  },
  {
   "cell_type": "markdown",
   "id": "a58dcaba",
   "metadata": {},
   "source": [
    "This notebook provides recipes for using basic arithmetic and comparison operators in Python "
   ]
  },
  {
   "cell_type": "code",
   "execution_count": null,
   "id": "ce9da7f0",
   "metadata": {},
   "outputs": [],
   "source": [
    "%%time\n",
    "import datetime\n",
    "print (\"Current date and time : \", datetime.datetime.now().strftime(\"%Y-%m-%d %H:%M:%S\"), '\\n')"
   ]
  },
  {
   "cell_type": "markdown",
   "id": "9af03858",
   "metadata": {},
   "source": [
    "# Load Packages and Set Working Directory\n",
    "Import several necessary Python packages. We will be using the <a href=\"http://pandas.pydata.org/\">Python Data Analysis Library,</a> or <i>PANDAS</i>, extensively for our data manipulations in this and future tutorials."
   ]
  },
  {
   "cell_type": "code",
   "execution_count": null,
   "id": "20c2d746",
   "metadata": {},
   "outputs": [],
   "source": [
    "import numpy as np\n",
    "import pandas as pd\n",
    "from pandas import DataFrame\n",
    "from pandas import Series"
   ]
  },
  {
   "cell_type": "markdown",
   "id": "6ab477ac",
   "metadata": {},
   "source": [
    "<br>\n",
    "PANDAS allows you to set various options for, among other things, inspecting the data. I like to be able to see all of the columns. Therefore, I typically include this line at the top of all my notebooks."
   ]
  },
  {
   "cell_type": "code",
   "execution_count": null,
   "id": "bdca7e41",
   "metadata": {},
   "outputs": [],
   "source": [
    "#http://pandas.pydata.org/pandas-docs/stable/options.html\n",
    "pd.set_option('display.max_columns', None)\n",
    "pd.set_option('max_colwidth', 250)\n",
    "pd.set_option('display.max_info_columns', 500)"
   ]
  },
  {
   "cell_type": "markdown",
   "id": "8b452531",
   "metadata": {},
   "source": [
    "# Read in Data"
   ]
  },
  {
   "cell_type": "code",
   "execution_count": null,
   "id": "a8420eeb",
   "metadata": {},
   "outputs": [],
   "source": [
    "import pandas as pd\n",
    "import requests\n",
    "\n",
    "# NOTE: replace `https://github.com/` with `https://raw.githubusercontent.com`\n",
    "# https://github.com/gdsaxton/GDAN5400/blob/main/Coding%20Assignment%201/final_insurance_fraud.xlsx\n",
    "url = 'https://raw.githubusercontent.com/gdsaxton/GDAN5400/main/Coding%20Assignment%201/final_insurance_fraud.xlsx'\n",
    "\n",
    "# Download the file\n",
    "response = requests.get(url)\n",
    "with open('final_insurance_fraud.xlsx', 'wb') as f:\n",
    "    f.write(response.content)\n",
    "\n",
    "# Load the Excel file\n",
    "df = pd.read_excel('final_insurance_fraud.xlsx', engine='openpyxl')\n",
    "\n",
    "df.head()"
   ]
  },
  {
   "cell_type": "markdown",
   "id": "de859d30",
   "metadata": {},
   "source": [
    "# Working with Python `Lists`"
   ]
  },
  {
   "cell_type": "markdown",
   "id": "e8108861",
   "metadata": {},
   "source": [
    "**[ChatGPT prompt]** `What is a *list* in Python?`"
   ]
  },
  {
   "cell_type": "code",
   "execution_count": null,
   "id": "463e54dd",
   "metadata": {},
   "outputs": [],
   "source": [
    "print(\"\\n1. Converting 'Adjuster' column to a list:\")\n",
    "adjuster_list = df['Adjuster'].tolist()  # Convert the column to a list\n",
    "print(adjuster_list)"
   ]
  },
  {
   "cell_type": "code",
   "execution_count": null,
   "id": "7523f8d0",
   "metadata": {},
   "outputs": [],
   "source": [
    "len(adjuster_list)"
   ]
  },
  {
   "cell_type": "code",
   "execution_count": null,
   "id": "34f5b4c9",
   "metadata": {},
   "outputs": [],
   "source": [
    "print('Number of elements in list:', len(adjuster_list))"
   ]
  },
  {
   "cell_type": "code",
   "execution_count": null,
   "id": "436948dc",
   "metadata": {},
   "outputs": [],
   "source": [
    "# Remove None values\n",
    "adjuster_list = [a for a in adjuster_list if a is not None]\n",
    "print(\"\\nFiltered List (no None values):\")\n",
    "print(len(adjuster_list))\n",
    "print(adjuster_list)"
   ]
  },
  {
   "cell_type": "code",
   "execution_count": null,
   "id": "11b5f141",
   "metadata": {},
   "outputs": [],
   "source": [
    "# Accessing Elements\n",
    "print(\"\\nAccessing Elements:\")\n",
    "print(f\"First element: {adjuster_list[0]}\")\n",
    "print(f\"Last element: {adjuster_list[-1]}\")\n",
    "print(f\"First three elements: {adjuster_list[:3]}\")"
   ]
  },
  {
   "cell_type": "code",
   "execution_count": null,
   "id": "66b53e9d",
   "metadata": {},
   "outputs": [],
   "source": [
    "# Adding Elements\n",
    "print(len(adjuster_list))\n",
    "print(\"\\nAdding Elements:\")\n",
    "adjuster_list.append(\"Johnson\")\n",
    "print(len(adjuster_list), '\\n')\n",
    "print(f\"Number of elements after appending 'Johnson':\", len(adjuster_list))\n",
    "print(f\"Number of elements after appending 'Johnson': {len(adjuster_list)}\")"
   ]
  },
  {
   "cell_type": "code",
   "execution_count": null,
   "id": "515d4d2d",
   "metadata": {},
   "outputs": [],
   "source": [
    "# Inserting Elements\n",
    "print(\"\\nInserting Elements:\")\n",
    "print(f\"First three elements: {adjuster_list[:3]}\")\n",
    "adjuster_list.insert(1, \"Brown\")\n",
    "print(f\"First five elements after inserting 'Brown' at index 1: {adjuster_list[:5]}\")"
   ]
  },
  {
   "cell_type": "code",
   "execution_count": null,
   "id": "e1f13a30",
   "metadata": {},
   "outputs": [],
   "source": [
    "# Removing Elements\n",
    "print(\"\\nRemoving Elements:\")\n",
    "adjuster_list.remove(\"Johnson\")  # Removes the first occurrence\n",
    "print(f\"Number of elements after removing 'Johnson': {len(adjuster_list)}\")"
   ]
  },
  {
   "cell_type": "code",
   "execution_count": null,
   "id": "b55d55f0",
   "metadata": {},
   "outputs": [],
   "source": [
    "# Sorting the List\n",
    "print(\"\\nSorting the List:\")\n",
    "adjuster_list.sort()\n",
    "print(f\"Sorted List: {adjuster_list}\")"
   ]
  },
  {
   "cell_type": "code",
   "execution_count": null,
   "id": "bd383923",
   "metadata": {},
   "outputs": [],
   "source": [
    "# Reversing the List\n",
    "print(\"\\nReversing the List:\")\n",
    "adjuster_list.reverse()\n",
    "print(f\"Reversed List: {adjuster_list}\")"
   ]
  },
  {
   "cell_type": "code",
   "execution_count": null,
   "id": "c6d7c1c9",
   "metadata": {},
   "outputs": [],
   "source": [
    "# Counting Occurrences\n",
    "print(\"\\nCounting Occurrences:\")\n",
    "dudley_count = adjuster_list.count(\"Dudley\")\n",
    "print(f\"'Dudley' appears {dudley_count} times.\")"
   ]
  },
  {
   "cell_type": "code",
   "execution_count": null,
   "id": "00392522",
   "metadata": {},
   "outputs": [],
   "source": [
    "# Finding Index of an Element\n",
    "print(\"\\nFinding Index of an Element:\")\n",
    "dudley_index = adjuster_list.index(\"Dudley\")\n",
    "print(f\"'Dudley' is found at index {dudley_index}.\")"
   ]
  },
  {
   "cell_type": "code",
   "execution_count": null,
   "id": "0e3e2d72",
   "metadata": {},
   "outputs": [],
   "source": [
    "# Joining List into a String\n",
    "print(\"\\nJoining List into a String:\")\n",
    "adjuster_string = \", \".join(adjuster_list)\n",
    "print(f\"Adjusters as a string: {adjuster_string}\")"
   ]
  },
  {
   "cell_type": "code",
   "execution_count": null,
   "id": "2de5b304",
   "metadata": {},
   "outputs": [],
   "source": [
    "# Splitting a List\n",
    "print(\"\\nSplitting the List into Chunks of 2:\")\n",
    "chunks = [adjuster_list[i:i+2] for i in range(0, len(adjuster_list), 2)]\n",
    "print(f\"Chunks: {chunks}\")"
   ]
  },
  {
   "cell_type": "markdown",
   "id": "34ed3d56",
   "metadata": {},
   "source": [
    "# `Sets` in Python"
   ]
  },
  {
   "cell_type": "markdown",
   "id": "03fde04d",
   "metadata": {},
   "source": [
    "**[ChatGPT prompt]** `What is a *set* in Python?`"
   ]
  },
  {
   "cell_type": "code",
   "execution_count": null,
   "id": "41e82ae5",
   "metadata": {},
   "outputs": [],
   "source": [
    "# General Examples\n",
    "set_a = {1, 2, 3}\n",
    "set_b = {3, 4, 5}\n",
    "\n",
    "print(set_a | set_b)  # Union: {1, 2, 3, 4, 5}\n",
    "print(set_a & set_b)  # Intersection: {3}\n",
    "print(set_a - set_b)  # Difference: {1, 2}\n",
    "print(set_a ^ set_b)  # Symmetric Difference: {1, 2, 4, 5}"
   ]
  },
  {
   "cell_type": "code",
   "execution_count": null,
   "id": "73130834",
   "metadata": {},
   "outputs": [],
   "source": [
    "#Common Use Case: Removing Duplicates from a List\n",
    "my_list = [1, 2, 2, 3, 4, 4, 5]\n",
    "unique_items = set(my_list)\n",
    "print(unique_items)  # Output: {1, 2, 3, 4, 5}"
   ]
  },
  {
   "cell_type": "code",
   "execution_count": null,
   "id": "79336200",
   "metadata": {},
   "outputs": [],
   "source": [
    "# Removing Duplicates in Adjuster List\n",
    "print(\"\\nRemoving Duplicates:\")\n",
    "adjuster_set = set(adjuster_list)\n",
    "print(f\"Set of adjusters (unique values): {adjuster_set}\")"
   ]
  },
  {
   "cell_type": "code",
   "execution_count": null,
   "id": "6a25d1d1",
   "metadata": {},
   "outputs": [],
   "source": [
    "# Count Unique Adjusters\n",
    "print(\"\\n5. Counting unique adjusters:\")\n",
    "unique_count = len(adjuster_set)\n",
    "print(f\"Number of unique adjusters: {unique_count}\")"
   ]
  },
  {
   "cell_type": "code",
   "execution_count": null,
   "id": "09ccb0e8",
   "metadata": {},
   "outputs": [],
   "source": [
    "# Adding Elements to a Set\n",
    "print(\"\\nAdding an Element to the Set:\")\n",
    "adjuster_set.add(\"Johnson\")\n",
    "print(f\"Set after adding 'Johnson': {adjuster_set}\")"
   ]
  },
  {
   "cell_type": "code",
   "execution_count": null,
   "id": "cc38a014",
   "metadata": {},
   "outputs": [],
   "source": [
    "# Removing Elements from a Set\n",
    "print(\"\\nRemoving an Element from the Set:\")\n",
    "adjuster_set.discard(\"Johnson\")  # Removes 'Taylor' if it exists; no error if it doesn't\n",
    "print(f\"Set after removing 'Johnson': {adjuster_set}\")"
   ]
  },
  {
   "cell_type": "code",
   "execution_count": null,
   "id": "5ae5bac0",
   "metadata": {},
   "outputs": [],
   "source": [
    "# Checking Membership\n",
    "print(\"\\nChecking Membership in the Set:\")\n",
    "is_dudley_present = \"Dudley\" in adjuster_set\n",
    "print(f\"Is 'Dudley' in the set? {is_dudley_present}\")"
   ]
  },
  {
   "cell_type": "code",
   "execution_count": null,
   "id": "9a2d3e72",
   "metadata": {},
   "outputs": [],
   "source": [
    "\"Johnson\" in adjuster_set"
   ]
  },
  {
   "cell_type": "code",
   "execution_count": null,
   "id": "5fa00a06",
   "metadata": {},
   "outputs": [],
   "source": [
    "# Set Operations: Intersection, Union, Difference\n",
    "other_set = {\"Smith\", \"Dudley\", \"Anderson\"}"
   ]
  },
  {
   "cell_type": "code",
   "execution_count": null,
   "id": "5a4669ab",
   "metadata": {},
   "outputs": [],
   "source": [
    "print(\"\\nIntersection (common elements):\")\n",
    "intersection_set = adjuster_set.intersection(other_set)\n",
    "print(f\"Intersection: {intersection_set}\")"
   ]
  },
  {
   "cell_type": "code",
   "execution_count": null,
   "id": "e0e88969",
   "metadata": {},
   "outputs": [],
   "source": [
    "print(\"\\nUnion (all elements):\")\n",
    "union_set = adjuster_set.union(other_set)\n",
    "print(f\"Union: {union_set}\")"
   ]
  },
  {
   "cell_type": "code",
   "execution_count": null,
   "id": "b49c3423",
   "metadata": {},
   "outputs": [],
   "source": [
    "print(\"\\nDifference (elements in adjuster_set but not in other_set):\")\n",
    "difference_set = adjuster_set.difference(other_set)\n",
    "print(f\"Difference: {difference_set}\")"
   ]
  },
  {
   "cell_type": "code",
   "execution_count": null,
   "id": "b3503dad",
   "metadata": {},
   "outputs": [],
   "source": [
    "# Converting Set Back to a List\n",
    "print(\"\\nConverting Set Back to a List:\")\n",
    "adjuster_list_from_set = list(adjuster_set)\n",
    "print(f\"List from set: {adjuster_list_from_set}\")"
   ]
  }
 ],
 "metadata": {
  "kernelspec": {
   "display_name": "Python 3 (ipykernel)",
   "language": "python",
   "name": "python3"
  },
  "language_info": {
   "codemirror_mode": {
    "name": "ipython",
    "version": 3
   },
   "file_extension": ".py",
   "mimetype": "text/x-python",
   "name": "python",
   "nbconvert_exporter": "python",
   "pygments_lexer": "ipython3",
   "version": "3.9.7"
  }
 },
 "nbformat": 4,
 "nbformat_minor": 5
}
